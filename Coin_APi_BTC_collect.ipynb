{
 "cells": [
  {
   "cell_type": "markdown",
   "metadata": {},
   "source": [
    "# Incremental collection of BTC/USD trade(spot) data using COIN API"
   ]
  },
  {
   "cell_type": "markdown",
   "metadata": {},
   "source": [
    "#### SPOT BTC/USD MARKET: BITSTAMP"
   ]
  },
  {
   "cell_type": "code",
   "execution_count": 2,
   "metadata": {},
   "outputs": [],
   "source": [
    "# This script includes the functions that downloads and prepares the data sets\n",
    "# that are intended to use\n",
    "\n",
    "\n",
    "## COIN CAP API\n",
    "import requests\n",
    "import pandas as pd\n",
    "import numpy as np\n",
    "import datetime\n",
    "import os\n",
    "api_key = \"B90AC06B-4BCB-4FC2-B3BA-CBBABCF63791\"\n",
    "\n",
    "\n",
    "# def get_hist(market, )\n",
    "\n",
    "\n",
    "url = 'https://rest.coinapi.io/v1/trades/BITSTAMP_SPOT_BTC_USD/history?'\n",
    "headers = {'X-CoinAPI-Key' : api_key}"
   ]
  },
  {
   "cell_type": "markdown",
   "metadata": {},
   "source": [
    "## Helper functions"
   ]
  },
  {
   "cell_type": "code",
   "execution_count": 3,
   "metadata": {},
   "outputs": [],
   "source": [
    "def save_csv(df):\n",
    "    '''\n",
    "    Assumes the data has the generated time columns: time_day\n",
    "    '''\n",
    "    df.to_csv('BITSTAMP_TRADE_SPOTBTC_'+ str(df['time_day'].min())+ '__' + str(df['time_day'].max()) + '.csv')"
   ]
  },
  {
   "cell_type": "code",
   "execution_count": 4,
   "metadata": {
    "scrolled": true
   },
   "outputs": [],
   "source": [
    "\n",
    "def make_integer_time_index(time_exch, config=None):\n",
    "    '''\n",
    "    Creates integer time index from 'time_exchange' column returned in format of Coin API\n",
    "    \n",
    "    This function is designed to be called with pd.Series.apply(lambda x: func(x, config=config)), x is the value of 'time_exch' passed on by apply function,\n",
    "    while what kind of index will be created should be specified by user via 'config' param.\n",
    "    \n",
    "        args:\n",
    "            \n",
    "            * time_exch: this is passed by .apply function from pandas\n",
    "            * config (str): user specifies which time index to create  as '[agg_type]_[agg_freq]':\n",
    "                - agg_type: \n",
    "                    = cycle:  only return the cycle. ( example if freq is day, then return day of the month example: 1, 2, 24, 30)\n",
    "                    = bin: concatenate starting from largest freq(year) until specified freq (allows easy binning with this freq, hence the name 'bin')\n",
    "    '''\n",
    "    \n",
    "    agg_type, agg_freq  = config.split('_')\n",
    "    \n",
    "    t = str(time_exch).split('T')\n",
    "\n",
    "    year, month, day = t[0].split('-')\n",
    "    hour, minute, second = t[1].split('.')[0].split(':')\n",
    "    ymd_hms = { 'year': year, 'month':month, 'day': day, 'hour': hour, 'minute': minute, 'second': second  }\n",
    "\n",
    "     \n",
    "    if agg_type == 'cycle':\n",
    "        return(int(ymd_hms[agg_freq]))\n",
    "    \n",
    "    elif agg_type == 'bin':\n",
    "        bin_time = ''\n",
    "        for freq, freq_value in ymd_hms.items():\n",
    "            bin_time += freq_value\n",
    "            if freq == agg_freq:\n",
    "                break\n",
    "        return(int(bin_time))\n",
    "\n",
    "    \n",
    "def make_all_time_indexes(df):             \n",
    "    time_agg_inds = []\n",
    "    \n",
    "    for agg_type in ['cycle', 'bin']:\n",
    "        for agg_freq in ['year','month', 'day', 'hour', 'minute','second']:\n",
    "            print(agg_type, agg_freq)\n",
    "            if agg_type == 'cycle':\n",
    "                config = str(agg_type+'_'+agg_freq)\n",
    "                df[agg_freq] = df['time_exchange'].apply(lambda x: make_integer_time_index(x, config=config))\n",
    "                time_agg_inds.append(agg_freq)\n",
    "            else:\n",
    "                config = str('bin_'+agg_freq)\n",
    "                df['time_'+agg_freq] = df['time_exchange'].apply(lambda x: make_integer_time_index(x, config=config))\n",
    "                time_agg_inds.append('time_'+agg_freq)\n",
    "    df['date'] = pd.to_datetime(df['time_exchange']).dt.date\n",
    "    return df\n",
    "    "
   ]
  },
  {
   "cell_type": "markdown",
   "metadata": {},
   "source": [
    "## Load existing(cumulative) data / Add new / Save all together csv"
   ]
  },
  {
   "cell_type": "code",
   "execution_count": 5,
   "metadata": {},
   "outputs": [
    {
     "data": {
      "text/plain": [
       "(799117, 19)"
      ]
     },
     "execution_count": 5,
     "metadata": {},
     "output_type": "execute_result"
    }
   ],
   "source": [
    "df_saved = pd.read_csv('../../Data/Coins/BTC_USD/Trade_Data/BITSTAMP_TRADE_SPOTBTC_cum.csv' , index_col='uuid')\n",
    "df_saved.shape"
   ]
  },
  {
   "cell_type": "code",
   "execution_count": 6,
   "metadata": {},
   "outputs": [
    {
     "data": {
      "text/plain": [
       "739189"
      ]
     },
     "execution_count": 6,
     "metadata": {},
     "output_type": "execute_result"
    }
   ],
   "source": [
    "sum([c[-2]=='0' for c in df_saved['time_exchange'].values])"
   ]
  },
  {
   "cell_type": "markdown",
   "metadata": {},
   "source": [
    "##### TODO ADD DATE MANIPULATION FOR STARTING FROM NEXT DAY"
   ]
  },
  {
   "cell_type": "code",
   "execution_count": 7,
   "metadata": {},
   "outputs": [],
   "source": [
    "# Manual day addition until above code fixed\n",
    "\n",
    "first_day_of_new = df_saved['time_exchange'].max()\n",
    "first_day_of_new = first_day_of_new[:-2]+'1Z'\n",
    "last_day_of_new = '2016-07-01'"
   ]
  },
  {
   "cell_type": "code",
   "execution_count": 8,
   "metadata": {},
   "outputs": [
    {
     "name": "stdout",
     "output_type": "stream",
     "text": [
      "2016-06-12T21:38:35.0000001Z\n",
      "2016-07-01\n"
     ]
    }
   ],
   "source": [
    "print(first_day_of_new)\n",
    "print(last_day_of_new)"
   ]
  },
  {
   "cell_type": "markdown",
   "metadata": {},
   "source": [
    "#### Get JSON data for next day(s)"
   ]
  },
  {
   "cell_type": "code",
   "execution_count": 9,
   "metadata": {},
   "outputs": [
    {
     "name": "stdout",
     "output_type": "stream",
     "text": [
      "(50000, 6)\n"
     ]
    }
   ],
   "source": [
    "url = 'https://rest.coinapi.io/v1/trades/BITSTAMP_SPOT_BTC_USD/history?time_start='+ first_day_of_new + '&time_end=' + last_day_of_new + '&limit=100000'\n",
    "\n",
    "# # url = 'https://rest.coinapi.io/v1/ohlcv/BITSTAMP_SPOT_BTC_USD/history?period_id=1MIN&time_start=2016-01-01T00:00:00'\n",
    "\n",
    "response = requests.get(url, headers=headers)\n",
    "\n",
    "if response.content[2:7] != b'error':\n",
    "    df_new = pd.read_json(response.content).set_index('uuid')\n",
    "    print(df_new.shape)\n",
    "else:\n",
    "    print(response.content)"
   ]
  },
  {
   "cell_type": "markdown",
   "metadata": {},
   "source": [
    "### Make integer indexes"
   ]
  },
  {
   "cell_type": "code",
   "execution_count": 19,
   "metadata": {},
   "outputs": [
    {
     "name": "stdout",
     "output_type": "stream",
     "text": [
      "cycle year\n",
      "cycle month\n",
      "cycle day\n",
      "cycle hour\n",
      "cycle minute\n",
      "cycle second\n",
      "bin year\n",
      "bin month\n",
      "bin day\n",
      "bin hour\n",
      "bin minute\n",
      "bin second\n"
     ]
    }
   ],
   "source": [
    "df_saved.columns\n",
    "\n",
    "df_new = make_all_time_indexes(df_new)"
   ]
  },
  {
   "cell_type": "code",
   "execution_count": 23,
   "metadata": {},
   "outputs": [
    {
     "name": "stdout",
     "output_type": "stream",
     "text": [
      "2016-05-31T21:23:45.0000000Z\n",
      "2016-05-31T21:24:17.0000000Z\n",
      "2016-06-12T21:38:35.0000000Z\n"
     ]
    }
   ],
   "source": [
    "print(df_saved['time_exchange'].unique().max())\n",
    "print(df_new['time_exchange'].unique().min())\n",
    "print(df_new['time_exchange'].unique().max())"
   ]
  },
  {
   "cell_type": "code",
   "execution_count": 24,
   "metadata": {},
   "outputs": [],
   "source": [
    "# from datetime import datetime as dt\n",
    "\n",
    "# dt.strptime('2016-04-10T22:02:50.73000Z', '%Y-%m-%dT%H:%M:%S.%fZ')"
   ]
  },
  {
   "cell_type": "markdown",
   "metadata": {},
   "source": [
    "### Join with old and save"
   ]
  },
  {
   "cell_type": "code",
   "execution_count": 25,
   "metadata": {},
   "outputs": [
    {
     "name": "stdout",
     "output_type": "stream",
     "text": [
      "(799117, 19)\n"
     ]
    },
    {
     "data": {
      "text/html": [
       "<div>\n",
       "<style scoped>\n",
       "    .dataframe tbody tr th:only-of-type {\n",
       "        vertical-align: middle;\n",
       "    }\n",
       "\n",
       "    .dataframe tbody tr th {\n",
       "        vertical-align: top;\n",
       "    }\n",
       "\n",
       "    .dataframe thead th {\n",
       "        text-align: right;\n",
       "    }\n",
       "</style>\n",
       "<table border=\"1\" class=\"dataframe\">\n",
       "  <thead>\n",
       "    <tr style=\"text-align: right;\">\n",
       "      <th></th>\n",
       "      <th>price</th>\n",
       "      <th>size</th>\n",
       "      <th>symbol_id</th>\n",
       "      <th>taker_side</th>\n",
       "      <th>time_coinapi</th>\n",
       "      <th>time_exchange</th>\n",
       "      <th>year</th>\n",
       "      <th>month</th>\n",
       "      <th>day</th>\n",
       "      <th>hour</th>\n",
       "      <th>minute</th>\n",
       "      <th>second</th>\n",
       "      <th>time_year</th>\n",
       "      <th>time_month</th>\n",
       "      <th>time_day</th>\n",
       "      <th>time_hour</th>\n",
       "      <th>time_minute</th>\n",
       "      <th>time_second</th>\n",
       "      <th>date</th>\n",
       "    </tr>\n",
       "    <tr>\n",
       "      <th>uuid</th>\n",
       "      <th></th>\n",
       "      <th></th>\n",
       "      <th></th>\n",
       "      <th></th>\n",
       "      <th></th>\n",
       "      <th></th>\n",
       "      <th></th>\n",
       "      <th></th>\n",
       "      <th></th>\n",
       "      <th></th>\n",
       "      <th></th>\n",
       "      <th></th>\n",
       "      <th></th>\n",
       "      <th></th>\n",
       "      <th></th>\n",
       "      <th></th>\n",
       "      <th></th>\n",
       "      <th></th>\n",
       "      <th></th>\n",
       "    </tr>\n",
       "  </thead>\n",
       "  <tbody>\n",
       "    <tr>\n",
       "      <th>ec6fba23-29c7-4742-85b1-117b1e9e4574</th>\n",
       "      <td>430.89</td>\n",
       "      <td>0.080631</td>\n",
       "      <td>BITSTAMP_SPOT_BTC_USD</td>\n",
       "      <td>UNKNOWN</td>\n",
       "      <td>2016-01-01T00:01:01.2570000Z</td>\n",
       "      <td>2016-01-01T00:01:01.1500000Z</td>\n",
       "      <td>2016</td>\n",
       "      <td>1</td>\n",
       "      <td>1</td>\n",
       "      <td>0</td>\n",
       "      <td>1</td>\n",
       "      <td>1</td>\n",
       "      <td>2016</td>\n",
       "      <td>201601</td>\n",
       "      <td>20160101</td>\n",
       "      <td>2016010100</td>\n",
       "      <td>201601010001</td>\n",
       "      <td>20160101000101</td>\n",
       "      <td>2016-01-01</td>\n",
       "    </tr>\n",
       "    <tr>\n",
       "      <th>e435fd12-b49b-4334-9fff-9f37d8b2ce82</th>\n",
       "      <td>430.89</td>\n",
       "      <td>0.096757</td>\n",
       "      <td>BITSTAMP_SPOT_BTC_USD</td>\n",
       "      <td>UNKNOWN</td>\n",
       "      <td>2016-01-01T00:02:14.0030000Z</td>\n",
       "      <td>2016-01-01T00:02:13.8870000Z</td>\n",
       "      <td>2016</td>\n",
       "      <td>1</td>\n",
       "      <td>1</td>\n",
       "      <td>0</td>\n",
       "      <td>2</td>\n",
       "      <td>13</td>\n",
       "      <td>2016</td>\n",
       "      <td>201601</td>\n",
       "      <td>20160101</td>\n",
       "      <td>2016010100</td>\n",
       "      <td>201601010002</td>\n",
       "      <td>20160101000213</td>\n",
       "      <td>2016-01-01</td>\n",
       "    </tr>\n",
       "    <tr>\n",
       "      <th>df51e2de-1d76-4182-a269-7ef59c0ca1b3</th>\n",
       "      <td>430.89</td>\n",
       "      <td>0.046500</td>\n",
       "      <td>BITSTAMP_SPOT_BTC_USD</td>\n",
       "      <td>UNKNOWN</td>\n",
       "      <td>2016-01-01T00:02:46.5800000Z</td>\n",
       "      <td>2016-01-01T00:02:46.4830000Z</td>\n",
       "      <td>2016</td>\n",
       "      <td>1</td>\n",
       "      <td>1</td>\n",
       "      <td>0</td>\n",
       "      <td>2</td>\n",
       "      <td>46</td>\n",
       "      <td>2016</td>\n",
       "      <td>201601</td>\n",
       "      <td>20160101</td>\n",
       "      <td>2016010100</td>\n",
       "      <td>201601010002</td>\n",
       "      <td>20160101000246</td>\n",
       "      <td>2016-01-01</td>\n",
       "    </tr>\n",
       "    <tr>\n",
       "      <th>4c313843-3ed5-4222-9f01-597566506f26</th>\n",
       "      <td>430.19</td>\n",
       "      <td>0.200000</td>\n",
       "      <td>BITSTAMP_SPOT_BTC_USD</td>\n",
       "      <td>UNKNOWN</td>\n",
       "      <td>2016-01-01T00:04:32.6400000Z</td>\n",
       "      <td>2016-01-01T00:04:32.5200000Z</td>\n",
       "      <td>2016</td>\n",
       "      <td>1</td>\n",
       "      <td>1</td>\n",
       "      <td>0</td>\n",
       "      <td>4</td>\n",
       "      <td>32</td>\n",
       "      <td>2016</td>\n",
       "      <td>201601</td>\n",
       "      <td>20160101</td>\n",
       "      <td>2016010100</td>\n",
       "      <td>201601010004</td>\n",
       "      <td>20160101000432</td>\n",
       "      <td>2016-01-01</td>\n",
       "    </tr>\n",
       "    <tr>\n",
       "      <th>7e65517a-29ec-4cea-a625-0c080bce3921</th>\n",
       "      <td>430.89</td>\n",
       "      <td>0.432161</td>\n",
       "      <td>BITSTAMP_SPOT_BTC_USD</td>\n",
       "      <td>UNKNOWN</td>\n",
       "      <td>2016-01-01T00:04:36.4800000Z</td>\n",
       "      <td>2016-01-01T00:04:36.3600000Z</td>\n",
       "      <td>2016</td>\n",
       "      <td>1</td>\n",
       "      <td>1</td>\n",
       "      <td>0</td>\n",
       "      <td>4</td>\n",
       "      <td>36</td>\n",
       "      <td>2016</td>\n",
       "      <td>201601</td>\n",
       "      <td>20160101</td>\n",
       "      <td>2016010100</td>\n",
       "      <td>201601010004</td>\n",
       "      <td>20160101000436</td>\n",
       "      <td>2016-01-01</td>\n",
       "    </tr>\n",
       "  </tbody>\n",
       "</table>\n",
       "</div>"
      ],
      "text/plain": [
       "                                       price      size              symbol_id  \\\n",
       "uuid                                                                            \n",
       "ec6fba23-29c7-4742-85b1-117b1e9e4574  430.89  0.080631  BITSTAMP_SPOT_BTC_USD   \n",
       "e435fd12-b49b-4334-9fff-9f37d8b2ce82  430.89  0.096757  BITSTAMP_SPOT_BTC_USD   \n",
       "df51e2de-1d76-4182-a269-7ef59c0ca1b3  430.89  0.046500  BITSTAMP_SPOT_BTC_USD   \n",
       "4c313843-3ed5-4222-9f01-597566506f26  430.19  0.200000  BITSTAMP_SPOT_BTC_USD   \n",
       "7e65517a-29ec-4cea-a625-0c080bce3921  430.89  0.432161  BITSTAMP_SPOT_BTC_USD   \n",
       "\n",
       "                                     taker_side                  time_coinapi  \\\n",
       "uuid                                                                            \n",
       "ec6fba23-29c7-4742-85b1-117b1e9e4574    UNKNOWN  2016-01-01T00:01:01.2570000Z   \n",
       "e435fd12-b49b-4334-9fff-9f37d8b2ce82    UNKNOWN  2016-01-01T00:02:14.0030000Z   \n",
       "df51e2de-1d76-4182-a269-7ef59c0ca1b3    UNKNOWN  2016-01-01T00:02:46.5800000Z   \n",
       "4c313843-3ed5-4222-9f01-597566506f26    UNKNOWN  2016-01-01T00:04:32.6400000Z   \n",
       "7e65517a-29ec-4cea-a625-0c080bce3921    UNKNOWN  2016-01-01T00:04:36.4800000Z   \n",
       "\n",
       "                                                     time_exchange  year  \\\n",
       "uuid                                                                       \n",
       "ec6fba23-29c7-4742-85b1-117b1e9e4574  2016-01-01T00:01:01.1500000Z  2016   \n",
       "e435fd12-b49b-4334-9fff-9f37d8b2ce82  2016-01-01T00:02:13.8870000Z  2016   \n",
       "df51e2de-1d76-4182-a269-7ef59c0ca1b3  2016-01-01T00:02:46.4830000Z  2016   \n",
       "4c313843-3ed5-4222-9f01-597566506f26  2016-01-01T00:04:32.5200000Z  2016   \n",
       "7e65517a-29ec-4cea-a625-0c080bce3921  2016-01-01T00:04:36.3600000Z  2016   \n",
       "\n",
       "                                      month  day  hour  minute  second  \\\n",
       "uuid                                                                     \n",
       "ec6fba23-29c7-4742-85b1-117b1e9e4574      1    1     0       1       1   \n",
       "e435fd12-b49b-4334-9fff-9f37d8b2ce82      1    1     0       2      13   \n",
       "df51e2de-1d76-4182-a269-7ef59c0ca1b3      1    1     0       2      46   \n",
       "4c313843-3ed5-4222-9f01-597566506f26      1    1     0       4      32   \n",
       "7e65517a-29ec-4cea-a625-0c080bce3921      1    1     0       4      36   \n",
       "\n",
       "                                      time_year  time_month  time_day  \\\n",
       "uuid                                                                    \n",
       "ec6fba23-29c7-4742-85b1-117b1e9e4574       2016      201601  20160101   \n",
       "e435fd12-b49b-4334-9fff-9f37d8b2ce82       2016      201601  20160101   \n",
       "df51e2de-1d76-4182-a269-7ef59c0ca1b3       2016      201601  20160101   \n",
       "4c313843-3ed5-4222-9f01-597566506f26       2016      201601  20160101   \n",
       "7e65517a-29ec-4cea-a625-0c080bce3921       2016      201601  20160101   \n",
       "\n",
       "                                       time_hour   time_minute  \\\n",
       "uuid                                                             \n",
       "ec6fba23-29c7-4742-85b1-117b1e9e4574  2016010100  201601010001   \n",
       "e435fd12-b49b-4334-9fff-9f37d8b2ce82  2016010100  201601010002   \n",
       "df51e2de-1d76-4182-a269-7ef59c0ca1b3  2016010100  201601010002   \n",
       "4c313843-3ed5-4222-9f01-597566506f26  2016010100  201601010004   \n",
       "7e65517a-29ec-4cea-a625-0c080bce3921  2016010100  201601010004   \n",
       "\n",
       "                                         time_second        date  \n",
       "uuid                                                              \n",
       "ec6fba23-29c7-4742-85b1-117b1e9e4574  20160101000101  2016-01-01  \n",
       "e435fd12-b49b-4334-9fff-9f37d8b2ce82  20160101000213  2016-01-01  \n",
       "df51e2de-1d76-4182-a269-7ef59c0ca1b3  20160101000246  2016-01-01  \n",
       "4c313843-3ed5-4222-9f01-597566506f26  20160101000432  2016-01-01  \n",
       "7e65517a-29ec-4cea-a625-0c080bce3921  20160101000436  2016-01-01  "
      ]
     },
     "execution_count": 25,
     "metadata": {},
     "output_type": "execute_result"
    }
   ],
   "source": [
    "df_both = pd.concat([df_saved, df_new])\n",
    "print(df_both.shape)\n",
    "df_both.head()"
   ]
  },
  {
   "cell_type": "code",
   "execution_count": 27,
   "metadata": {},
   "outputs": [
    {
     "data": {
      "text/plain": [
       "True"
      ]
     },
     "execution_count": 27,
     "metadata": {},
     "output_type": "execute_result"
    }
   ],
   "source": [
    "df_both.shape[0] == df_both.index.nunique()"
   ]
  },
  {
   "cell_type": "code",
   "execution_count": 28,
   "metadata": {},
   "outputs": [
    {
     "data": {
      "text/plain": [
       "True"
      ]
     },
     "execution_count": 28,
     "metadata": {},
     "output_type": "execute_result"
    }
   ],
   "source": [
    "all(df_both.isna().mean() == 0)"
   ]
  },
  {
   "cell_type": "code",
   "execution_count": 32,
   "metadata": {
    "scrolled": true
   },
   "outputs": [],
   "source": [
    "df_both.to_csv('../../Thesis_Workspace/Data/Coins/BTC_USD/Trade_Data/BITSTAMP_TRADE_SPOTBTC_cum.csv')\n",
    "# import os\n",
    "# print(os.getcwd())"
   ]
  },
  {
   "cell_type": "markdown",
   "metadata": {},
   "source": [
    "## backup save"
   ]
  },
  {
   "cell_type": "code",
   "execution_count": null,
   "metadata": {},
   "outputs": [],
   "source": []
  },
  {
   "cell_type": "code",
   "execution_count": 15,
   "metadata": {},
   "outputs": [
    {
     "data": {
      "text/plain": [
       "201603"
      ]
     },
     "execution_count": 15,
     "metadata": {},
     "output_type": "execute_result"
    }
   ],
   "source": [
    "last_month = df_both['time_month'].max()\n",
    "last_month"
   ]
  },
  {
   "cell_type": "code",
   "execution_count": 16,
   "metadata": {},
   "outputs": [
    {
     "data": {
      "text/plain": [
       "'BITSTAMP_TRADE_SPOTBTC_cum_backup201603.csv'"
      ]
     },
     "execution_count": 16,
     "metadata": {},
     "output_type": "execute_result"
    }
   ],
   "source": [
    "file_name = 'BITSTAMP_TRADE_SPOTBTC_cum_backup'+str(last_month)+'.csv'\n",
    "file_name"
   ]
  },
  {
   "cell_type": "code",
   "execution_count": 17,
   "metadata": {},
   "outputs": [],
   "source": [
    "df_both[df_both['time_month']==last_month].to_csv(file_name)"
   ]
  },
  {
   "cell_type": "code",
   "execution_count": null,
   "metadata": {},
   "outputs": [],
   "source": []
  }
 ],
 "metadata": {
  "kernelspec": {
   "display_name": "Python 3",
   "language": "python",
   "name": "python3"
  },
  "language_info": {
   "codemirror_mode": {
    "name": "ipython",
    "version": 3
   },
   "file_extension": ".py",
   "mimetype": "text/x-python",
   "name": "python",
   "nbconvert_exporter": "python",
   "pygments_lexer": "ipython3",
   "version": "3.6.4"
  }
 },
 "nbformat": 4,
 "nbformat_minor": 2
}
