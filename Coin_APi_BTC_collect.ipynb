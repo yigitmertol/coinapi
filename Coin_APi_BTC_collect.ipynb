{
 "cells": [
  {
   "cell_type": "markdown",
   "metadata": {},
   "source": [
    "# BITSTAMP BTC/USD Trade data"
   ]
  },
  {
   "cell_type": "code",
   "execution_count": 71,
   "metadata": {},
   "outputs": [],
   "source": [
    "## COIN CAP API\n",
    "import requests\n",
    "import pandas as pd\n",
    "import numpy as np\n",
    "import datetime\n",
    "import os\n",
    "\n",
    "# Yigit's functions\n",
    "import sys\n",
    "sys.path.append('../../Time_Series_Forecasting/TS_helpers/')\n",
    "from dates_coinapi import make_all_time_indexes, make_integer_time_index\n",
    "\n",
    "api_key = \"B90AC06B-4BCB-4FC2-B3BA-CBBABCF63791\"\n",
    "\n",
    "\n",
    "# URL and headers for coin api account\n",
    "url = 'https://rest.coinapi.io/v1/trades/BITSTAMP_SPOT_BTC_USD/history?'\n",
    "headers = {'X-CoinAPI-Key' : api_key}\n",
    "\n",
    "\n",
    "# Directory where data is read from and written to\n",
    "data_dir = '../../Data/Coins/BTC_USD/Trade_Data/'"
   ]
  },
  {
   "cell_type": "markdown",
   "metadata": {},
   "source": [
    "## Load existing(cumulative) data / Add new / Save all together csv"
   ]
  },
  {
   "cell_type": "code",
   "execution_count": 72,
   "metadata": {},
   "outputs": [
    {
     "data": {
      "text/plain": [
       "(1, 19)"
      ]
     },
     "execution_count": 72,
     "metadata": {},
     "output_type": "execute_result"
    }
   ],
   "source": [
    "df_saved = pd.read_csv( data_dir + 'BITSTAMP_TRADE_SPOTBTC_last_saved_trade.csv' , index_col='uuid')\n",
    "df_saved.shape\n",
    "# df_new.tail(1).to_csv(data_dir + 'BITSTAMP_TRADE_SPOTBTC_last_saved_trade.csv')"
   ]
  },
  {
   "cell_type": "code",
   "execution_count": 73,
   "metadata": {},
   "outputs": [
    {
     "data": {
      "text/html": [
       "<div>\n",
       "<style scoped>\n",
       "    .dataframe tbody tr th:only-of-type {\n",
       "        vertical-align: middle;\n",
       "    }\n",
       "\n",
       "    .dataframe tbody tr th {\n",
       "        vertical-align: top;\n",
       "    }\n",
       "\n",
       "    .dataframe thead th {\n",
       "        text-align: right;\n",
       "    }\n",
       "</style>\n",
       "<table border=\"1\" class=\"dataframe\">\n",
       "  <thead>\n",
       "    <tr style=\"text-align: right;\">\n",
       "      <th></th>\n",
       "      <th>price</th>\n",
       "      <th>size</th>\n",
       "      <th>symbol_id</th>\n",
       "      <th>taker_side</th>\n",
       "      <th>time_coinapi</th>\n",
       "      <th>time_exchange</th>\n",
       "      <th>year</th>\n",
       "      <th>month</th>\n",
       "      <th>day</th>\n",
       "      <th>hour</th>\n",
       "      <th>minute</th>\n",
       "      <th>second</th>\n",
       "      <th>time_year</th>\n",
       "      <th>time_month</th>\n",
       "      <th>time_day</th>\n",
       "      <th>time_hour</th>\n",
       "      <th>time_minute</th>\n",
       "      <th>time_second</th>\n",
       "      <th>date</th>\n",
       "    </tr>\n",
       "    <tr>\n",
       "      <th>uuid</th>\n",
       "      <th></th>\n",
       "      <th></th>\n",
       "      <th></th>\n",
       "      <th></th>\n",
       "      <th></th>\n",
       "      <th></th>\n",
       "      <th></th>\n",
       "      <th></th>\n",
       "      <th></th>\n",
       "      <th></th>\n",
       "      <th></th>\n",
       "      <th></th>\n",
       "      <th></th>\n",
       "      <th></th>\n",
       "      <th></th>\n",
       "      <th></th>\n",
       "      <th></th>\n",
       "      <th></th>\n",
       "      <th></th>\n",
       "    </tr>\n",
       "  </thead>\n",
       "  <tbody>\n",
       "    <tr>\n",
       "      <th>06f5bf72-488a-41e5-8e09-7bd6f695ef73</th>\n",
       "      <td>748.02</td>\n",
       "      <td>0.01</td>\n",
       "      <td>BITSTAMP_SPOT_BTC_USD</td>\n",
       "      <td>SELL</td>\n",
       "      <td>2016-11-19T00:30:35.7033883Z</td>\n",
       "      <td>2016-11-19T00:30:35.0000000Z</td>\n",
       "      <td>2016</td>\n",
       "      <td>11</td>\n",
       "      <td>19</td>\n",
       "      <td>0</td>\n",
       "      <td>30</td>\n",
       "      <td>35</td>\n",
       "      <td>2016</td>\n",
       "      <td>201611</td>\n",
       "      <td>20161119</td>\n",
       "      <td>2016111900</td>\n",
       "      <td>201611190030</td>\n",
       "      <td>20161119003035</td>\n",
       "      <td>2016-11-19</td>\n",
       "    </tr>\n",
       "  </tbody>\n",
       "</table>\n",
       "</div>"
      ],
      "text/plain": [
       "                                       price  size              symbol_id  \\\n",
       "uuid                                                                        \n",
       "06f5bf72-488a-41e5-8e09-7bd6f695ef73  748.02  0.01  BITSTAMP_SPOT_BTC_USD   \n",
       "\n",
       "                                     taker_side                  time_coinapi  \\\n",
       "uuid                                                                            \n",
       "06f5bf72-488a-41e5-8e09-7bd6f695ef73       SELL  2016-11-19T00:30:35.7033883Z   \n",
       "\n",
       "                                                     time_exchange  year  \\\n",
       "uuid                                                                       \n",
       "06f5bf72-488a-41e5-8e09-7bd6f695ef73  2016-11-19T00:30:35.0000000Z  2016   \n",
       "\n",
       "                                      month  day  hour  minute  second  \\\n",
       "uuid                                                                     \n",
       "06f5bf72-488a-41e5-8e09-7bd6f695ef73     11   19     0      30      35   \n",
       "\n",
       "                                      time_year  time_month  time_day  \\\n",
       "uuid                                                                    \n",
       "06f5bf72-488a-41e5-8e09-7bd6f695ef73       2016      201611  20161119   \n",
       "\n",
       "                                       time_hour   time_minute  \\\n",
       "uuid                                                             \n",
       "06f5bf72-488a-41e5-8e09-7bd6f695ef73  2016111900  201611190030   \n",
       "\n",
       "                                         time_second        date  \n",
       "uuid                                                              \n",
       "06f5bf72-488a-41e5-8e09-7bd6f695ef73  20161119003035  2016-11-19  "
      ]
     },
     "execution_count": 73,
     "metadata": {},
     "output_type": "execute_result"
    }
   ],
   "source": [
    "df_saved"
   ]
  },
  {
   "cell_type": "markdown",
   "metadata": {},
   "source": [
    "##### TODO ADD DATE MANIPULATION FOR STARTING FROM NEXT DAY"
   ]
  },
  {
   "cell_type": "code",
   "execution_count": 125,
   "metadata": {},
   "outputs": [],
   "source": [
    "# Manual day addition until above code fixed\n",
    "\n",
    "first_day_of_new = df_saved['time_exchange'].max()\n",
    "if first_day_of_new[-9:-1] != '.9999999':\n",
    "    next_time = str(int(first_day_of_new[-8:-1])+1)\n",
    "    first_day_of_new = first_day_of_new[:-8]+ \"0\"*int(len('0000000')-len(next_time)) + next_time + 'Z'\n",
    "else:\n",
    "    None\n",
    "    \n",
    "last_day_of_new = '2018-01-01'"
   ]
  },
  {
   "cell_type": "code",
   "execution_count": 126,
   "metadata": {},
   "outputs": [
    {
     "name": "stdout",
     "output_type": "stream",
     "text": [
      "2016-11-19T00:30:35.0000001Z\n",
      "2018-01-01\n"
     ]
    }
   ],
   "source": [
    "print(first_day_of_new)\n",
    "print(last_day_of_new)"
   ]
  },
  {
   "cell_type": "markdown",
   "metadata": {},
   "source": [
    "#### Get JSON data for next day(s)"
   ]
  },
  {
   "cell_type": "code",
   "execution_count": 127,
   "metadata": {},
   "outputs": [
    {
     "name": "stdout",
     "output_type": "stream",
     "text": [
      "Limit yok.\n"
     ]
    }
   ],
   "source": [
    "url = 'https://rest.coinapi.io/v1/trades/BITSTAMP_SPOT_BTC_USD/history?time_start='+ first_day_of_new + '&time_end=' + last_day_of_new + '&limit=100000'\n",
    "\n",
    "# # url = 'https://rest.coinapi.io/v1/ohlcv/BITSTAMP_SPOT_BTC_USD/history?period_id=1MIN&time_start=2016-01-01T00:00:00'\n",
    "\n",
    "response = requests.get(url, headers=headers)\n",
    "\n",
    "if response.content[2:7] != b'error':\n",
    "    df_new = pd.read_json(response.content).set_index('uuid')\n",
    "    print(df_new.shape)\n",
    "else:\n",
    "    print('Limit yok.')"
   ]
  },
  {
   "cell_type": "markdown",
   "metadata": {},
   "source": [
    "### Make integer indexes"
   ]
  },
  {
   "cell_type": "code",
   "execution_count": 60,
   "metadata": {},
   "outputs": [
    {
     "name": "stdout",
     "output_type": "stream",
     "text": [
      "cycle year\n",
      "cycle month\n",
      "cycle day\n",
      "cycle hour\n",
      "cycle minute\n",
      "cycle second\n",
      "bin year\n",
      "bin month\n",
      "bin day\n",
      "bin hour\n",
      "bin minute\n",
      "bin second\n"
     ]
    }
   ],
   "source": [
    "df_saved.columns\n",
    "\n",
    "df_new = make_all_time_indexes(df_new)"
   ]
  },
  {
   "cell_type": "code",
   "execution_count": 128,
   "metadata": {},
   "outputs": [
    {
     "name": "stdout",
     "output_type": "stream",
     "text": [
      "2016-11-19T00:30:35.0000000Z\n",
      "2016-11-10T04:14:17.0000000Z\n",
      "2016-11-19T00:30:35.0000000Z\n"
     ]
    }
   ],
   "source": [
    "print(df_saved['time_exchange'].unique().max())\n",
    "print(df_new['time_exchange'].unique().min())\n",
    "print(df_new['time_exchange'].unique().max())"
   ]
  },
  {
   "cell_type": "code",
   "execution_count": 62,
   "metadata": {},
   "outputs": [],
   "source": [
    "# from datetime import datetime as dt\n",
    "\n",
    "# dt.strptime('2016-04-10T22:02:50.73000Z', '%Y-%m-%dT%H:%M:%S.%fZ')"
   ]
  },
  {
   "cell_type": "markdown",
   "metadata": {},
   "source": [
    "### Indirilen yeni verinin uygunluguna dair bazi checkler"
   ]
  },
  {
   "cell_type": "code",
   "execution_count": 63,
   "metadata": {},
   "outputs": [
    {
     "data": {
      "text/plain": [
       "True"
      ]
     },
     "execution_count": 63,
     "metadata": {},
     "output_type": "execute_result"
    }
   ],
   "source": [
    "df_new.shape[0] == df_new.index.nunique()"
   ]
  },
  {
   "cell_type": "code",
   "execution_count": 64,
   "metadata": {},
   "outputs": [
    {
     "data": {
      "text/plain": [
       "True"
      ]
     },
     "execution_count": 64,
     "metadata": {},
     "output_type": "execute_result"
    }
   ],
   "source": [
    "all(df_new.isna().mean() == 0)"
   ]
  },
  {
   "cell_type": "code",
   "execution_count": 65,
   "metadata": {},
   "outputs": [],
   "source": [
    "df_both = df_saved.append(df_new)"
   ]
  },
  {
   "cell_type": "code",
   "execution_count": 66,
   "metadata": {},
   "outputs": [
    {
     "data": {
      "text/plain": [
       "True"
      ]
     },
     "execution_count": 66,
     "metadata": {},
     "output_type": "execute_result"
    }
   ],
   "source": [
    "df_both.shape[0] - df_saved.shape[0] == df_new.shape[0]"
   ]
  },
  {
   "cell_type": "code",
   "execution_count": 67,
   "metadata": {},
   "outputs": [
    {
     "data": {
      "text/html": [
       "<div>\n",
       "<style scoped>\n",
       "    .dataframe tbody tr th:only-of-type {\n",
       "        vertical-align: middle;\n",
       "    }\n",
       "\n",
       "    .dataframe tbody tr th {\n",
       "        vertical-align: top;\n",
       "    }\n",
       "\n",
       "    .dataframe thead th {\n",
       "        text-align: right;\n",
       "    }\n",
       "</style>\n",
       "<table border=\"1\" class=\"dataframe\">\n",
       "  <thead>\n",
       "    <tr style=\"text-align: right;\">\n",
       "      <th></th>\n",
       "      <th>price</th>\n",
       "      <th>size</th>\n",
       "      <th>symbol_id</th>\n",
       "      <th>taker_side</th>\n",
       "      <th>time_coinapi</th>\n",
       "      <th>time_exchange</th>\n",
       "      <th>year</th>\n",
       "      <th>month</th>\n",
       "      <th>day</th>\n",
       "      <th>hour</th>\n",
       "      <th>minute</th>\n",
       "      <th>second</th>\n",
       "      <th>time_year</th>\n",
       "      <th>time_month</th>\n",
       "      <th>time_day</th>\n",
       "      <th>time_hour</th>\n",
       "      <th>time_minute</th>\n",
       "      <th>time_second</th>\n",
       "      <th>date</th>\n",
       "    </tr>\n",
       "    <tr>\n",
       "      <th>uuid</th>\n",
       "      <th></th>\n",
       "      <th></th>\n",
       "      <th></th>\n",
       "      <th></th>\n",
       "      <th></th>\n",
       "      <th></th>\n",
       "      <th></th>\n",
       "      <th></th>\n",
       "      <th></th>\n",
       "      <th></th>\n",
       "      <th></th>\n",
       "      <th></th>\n",
       "      <th></th>\n",
       "      <th></th>\n",
       "      <th></th>\n",
       "      <th></th>\n",
       "      <th></th>\n",
       "      <th></th>\n",
       "      <th></th>\n",
       "    </tr>\n",
       "  </thead>\n",
       "  <tbody>\n",
       "    <tr>\n",
       "      <th>a8daddb5-23f1-46a3-a63a-19304a3e1499</th>\n",
       "      <td>714.55</td>\n",
       "      <td>0.251000</td>\n",
       "      <td>BITSTAMP_SPOT_BTC_USD</td>\n",
       "      <td>BUY</td>\n",
       "      <td>2016-11-10T04:13:48.0711286Z</td>\n",
       "      <td>2016-11-10T04:13:47.0000000Z</td>\n",
       "      <td>2016</td>\n",
       "      <td>11</td>\n",
       "      <td>10</td>\n",
       "      <td>4</td>\n",
       "      <td>13</td>\n",
       "      <td>47</td>\n",
       "      <td>2016</td>\n",
       "      <td>201611</td>\n",
       "      <td>20161110</td>\n",
       "      <td>2016111004</td>\n",
       "      <td>201611100413</td>\n",
       "      <td>20161110041347</td>\n",
       "      <td>2016-11-10</td>\n",
       "    </tr>\n",
       "    <tr>\n",
       "      <th>62961fca-4818-427d-bbb8-7077d5d7fe0a</th>\n",
       "      <td>716.19</td>\n",
       "      <td>0.193893</td>\n",
       "      <td>BITSTAMP_SPOT_BTC_USD</td>\n",
       "      <td>BUY</td>\n",
       "      <td>2016-11-10T04:14:17.7898878Z</td>\n",
       "      <td>2016-11-10T04:14:17.0000000Z</td>\n",
       "      <td>2016</td>\n",
       "      <td>11</td>\n",
       "      <td>10</td>\n",
       "      <td>4</td>\n",
       "      <td>14</td>\n",
       "      <td>17</td>\n",
       "      <td>2016</td>\n",
       "      <td>201611</td>\n",
       "      <td>20161110</td>\n",
       "      <td>2016111004</td>\n",
       "      <td>201611100414</td>\n",
       "      <td>20161110041417</td>\n",
       "      <td>2016-11-10</td>\n",
       "    </tr>\n",
       "    <tr>\n",
       "      <th>6bc3ce5b-74b4-4651-948c-9a52e38093ea</th>\n",
       "      <td>716.21</td>\n",
       "      <td>0.757561</td>\n",
       "      <td>BITSTAMP_SPOT_BTC_USD</td>\n",
       "      <td>BUY</td>\n",
       "      <td>2016-11-10T04:14:17.9305174Z</td>\n",
       "      <td>2016-11-10T04:14:17.0000000Z</td>\n",
       "      <td>2016</td>\n",
       "      <td>11</td>\n",
       "      <td>10</td>\n",
       "      <td>4</td>\n",
       "      <td>14</td>\n",
       "      <td>17</td>\n",
       "      <td>2016</td>\n",
       "      <td>201611</td>\n",
       "      <td>20161110</td>\n",
       "      <td>2016111004</td>\n",
       "      <td>201611100414</td>\n",
       "      <td>20161110041417</td>\n",
       "      <td>2016-11-10</td>\n",
       "    </tr>\n",
       "    <tr>\n",
       "      <th>9a1306e8-4797-481e-bf72-55a8a45419a6</th>\n",
       "      <td>716.22</td>\n",
       "      <td>0.070000</td>\n",
       "      <td>BITSTAMP_SPOT_BTC_USD</td>\n",
       "      <td>BUY</td>\n",
       "      <td>2016-11-10T04:14:37.1805221Z</td>\n",
       "      <td>2016-11-10T04:14:36.0000000Z</td>\n",
       "      <td>2016</td>\n",
       "      <td>11</td>\n",
       "      <td>10</td>\n",
       "      <td>4</td>\n",
       "      <td>14</td>\n",
       "      <td>36</td>\n",
       "      <td>2016</td>\n",
       "      <td>201611</td>\n",
       "      <td>20161110</td>\n",
       "      <td>2016111004</td>\n",
       "      <td>201611100414</td>\n",
       "      <td>20161110041436</td>\n",
       "      <td>2016-11-10</td>\n",
       "    </tr>\n",
       "    <tr>\n",
       "      <th>64287d13-4e40-4422-a22a-3dfb31dbfe44</th>\n",
       "      <td>716.22</td>\n",
       "      <td>0.095000</td>\n",
       "      <td>BITSTAMP_SPOT_BTC_USD</td>\n",
       "      <td>BUY</td>\n",
       "      <td>2016-11-10T04:14:51.7117798Z</td>\n",
       "      <td>2016-11-10T04:14:51.0000000Z</td>\n",
       "      <td>2016</td>\n",
       "      <td>11</td>\n",
       "      <td>10</td>\n",
       "      <td>4</td>\n",
       "      <td>14</td>\n",
       "      <td>51</td>\n",
       "      <td>2016</td>\n",
       "      <td>201611</td>\n",
       "      <td>20161110</td>\n",
       "      <td>2016111004</td>\n",
       "      <td>201611100414</td>\n",
       "      <td>20161110041451</td>\n",
       "      <td>2016-11-10</td>\n",
       "    </tr>\n",
       "  </tbody>\n",
       "</table>\n",
       "</div>"
      ],
      "text/plain": [
       "                                       price      size              symbol_id  \\\n",
       "uuid                                                                            \n",
       "a8daddb5-23f1-46a3-a63a-19304a3e1499  714.55  0.251000  BITSTAMP_SPOT_BTC_USD   \n",
       "62961fca-4818-427d-bbb8-7077d5d7fe0a  716.19  0.193893  BITSTAMP_SPOT_BTC_USD   \n",
       "6bc3ce5b-74b4-4651-948c-9a52e38093ea  716.21  0.757561  BITSTAMP_SPOT_BTC_USD   \n",
       "9a1306e8-4797-481e-bf72-55a8a45419a6  716.22  0.070000  BITSTAMP_SPOT_BTC_USD   \n",
       "64287d13-4e40-4422-a22a-3dfb31dbfe44  716.22  0.095000  BITSTAMP_SPOT_BTC_USD   \n",
       "\n",
       "                                     taker_side                  time_coinapi  \\\n",
       "uuid                                                                            \n",
       "a8daddb5-23f1-46a3-a63a-19304a3e1499        BUY  2016-11-10T04:13:48.0711286Z   \n",
       "62961fca-4818-427d-bbb8-7077d5d7fe0a        BUY  2016-11-10T04:14:17.7898878Z   \n",
       "6bc3ce5b-74b4-4651-948c-9a52e38093ea        BUY  2016-11-10T04:14:17.9305174Z   \n",
       "9a1306e8-4797-481e-bf72-55a8a45419a6        BUY  2016-11-10T04:14:37.1805221Z   \n",
       "64287d13-4e40-4422-a22a-3dfb31dbfe44        BUY  2016-11-10T04:14:51.7117798Z   \n",
       "\n",
       "                                                     time_exchange  year  \\\n",
       "uuid                                                                       \n",
       "a8daddb5-23f1-46a3-a63a-19304a3e1499  2016-11-10T04:13:47.0000000Z  2016   \n",
       "62961fca-4818-427d-bbb8-7077d5d7fe0a  2016-11-10T04:14:17.0000000Z  2016   \n",
       "6bc3ce5b-74b4-4651-948c-9a52e38093ea  2016-11-10T04:14:17.0000000Z  2016   \n",
       "9a1306e8-4797-481e-bf72-55a8a45419a6  2016-11-10T04:14:36.0000000Z  2016   \n",
       "64287d13-4e40-4422-a22a-3dfb31dbfe44  2016-11-10T04:14:51.0000000Z  2016   \n",
       "\n",
       "                                      month  day  hour  minute  second  \\\n",
       "uuid                                                                     \n",
       "a8daddb5-23f1-46a3-a63a-19304a3e1499     11   10     4      13      47   \n",
       "62961fca-4818-427d-bbb8-7077d5d7fe0a     11   10     4      14      17   \n",
       "6bc3ce5b-74b4-4651-948c-9a52e38093ea     11   10     4      14      17   \n",
       "9a1306e8-4797-481e-bf72-55a8a45419a6     11   10     4      14      36   \n",
       "64287d13-4e40-4422-a22a-3dfb31dbfe44     11   10     4      14      51   \n",
       "\n",
       "                                      time_year  time_month  time_day  \\\n",
       "uuid                                                                    \n",
       "a8daddb5-23f1-46a3-a63a-19304a3e1499       2016      201611  20161110   \n",
       "62961fca-4818-427d-bbb8-7077d5d7fe0a       2016      201611  20161110   \n",
       "6bc3ce5b-74b4-4651-948c-9a52e38093ea       2016      201611  20161110   \n",
       "9a1306e8-4797-481e-bf72-55a8a45419a6       2016      201611  20161110   \n",
       "64287d13-4e40-4422-a22a-3dfb31dbfe44       2016      201611  20161110   \n",
       "\n",
       "                                       time_hour   time_minute  \\\n",
       "uuid                                                             \n",
       "a8daddb5-23f1-46a3-a63a-19304a3e1499  2016111004  201611100413   \n",
       "62961fca-4818-427d-bbb8-7077d5d7fe0a  2016111004  201611100414   \n",
       "6bc3ce5b-74b4-4651-948c-9a52e38093ea  2016111004  201611100414   \n",
       "9a1306e8-4797-481e-bf72-55a8a45419a6  2016111004  201611100414   \n",
       "64287d13-4e40-4422-a22a-3dfb31dbfe44  2016111004  201611100414   \n",
       "\n",
       "                                         time_second        date  \n",
       "uuid                                                              \n",
       "a8daddb5-23f1-46a3-a63a-19304a3e1499  20161110041347  2016-11-10  \n",
       "62961fca-4818-427d-bbb8-7077d5d7fe0a  20161110041417  2016-11-10  \n",
       "6bc3ce5b-74b4-4651-948c-9a52e38093ea  20161110041417  2016-11-10  \n",
       "9a1306e8-4797-481e-bf72-55a8a45419a6  20161110041436  2016-11-10  \n",
       "64287d13-4e40-4422-a22a-3dfb31dbfe44  20161110041451  2016-11-10  "
      ]
     },
     "execution_count": 67,
     "metadata": {},
     "output_type": "execute_result"
    }
   ],
   "source": [
    "df_both.head()"
   ]
  },
  {
   "cell_type": "markdown",
   "metadata": {},
   "source": [
    "### CSVye eklenenen yeni veriyi diske yaz"
   ]
  },
  {
   "cell_type": "code",
   "execution_count": 68,
   "metadata": {},
   "outputs": [],
   "source": [
    "with open(data_dir + 'BITSTAMP_TRADE_SPOTBTC_cum.csv','a') as fd:\n",
    "    df_new.to_csv(fd, header=False)"
   ]
  },
  {
   "cell_type": "markdown",
   "metadata": {},
   "source": [
    "### Sadece son(zaman olarak) trade verisini ayri olarak kaydet\n",
    "###### (sonraki sefer kaldigimiz yerden devam ederken, nerede kaldigimizi gormek icin butun veriyi hafizaya yuklemek zorunda kalmayalim diye)"
   ]
  },
  {
   "cell_type": "code",
   "execution_count": 70,
   "metadata": {},
   "outputs": [],
   "source": [
    "df_new.tail(1).to_csv(data_dir + 'BITSTAMP_TRADE_SPOTBTC_last_saved_trade.csv')"
   ]
  },
  {
   "cell_type": "code",
   "execution_count": null,
   "metadata": {},
   "outputs": [],
   "source": []
  },
  {
   "cell_type": "code",
   "execution_count": null,
   "metadata": {},
   "outputs": [],
   "source": []
  },
  {
   "cell_type": "code",
   "execution_count": null,
   "metadata": {},
   "outputs": [],
   "source": []
  },
  {
   "cell_type": "code",
   "execution_count": null,
   "metadata": {},
   "outputs": [],
   "source": []
  },
  {
   "cell_type": "code",
   "execution_count": null,
   "metadata": {},
   "outputs": [],
   "source": []
  },
  {
   "cell_type": "code",
   "execution_count": null,
   "metadata": {},
   "outputs": [],
   "source": []
  },
  {
   "cell_type": "code",
   "execution_count": 206,
   "metadata": {},
   "outputs": [],
   "source": [
    "# line = 0\n",
    "# i = 0\n",
    "\n",
    "# lines = []\n",
    "# after = False\n",
    "# with open(data_dir + 'BITSTAMP_TRADE_SPOTBTC_cum.csv','w') as fd:\n",
    "#     while line is not None:\n",
    "#         i = i+1\n",
    "#         line = fd.readline()\n",
    "#         print(line)\n",
    "#         if line is not None:\n",
    "            \n",
    "#             if len(line.split(',')) == 39:\n",
    "#                 after = True\n",
    "#                 print(i)\n",
    "#                 print(line.split(','))\n",
    "#         if after:\n",
    "#             print(line)\n",
    "#     #     fd.readlines(999300)\n",
    "\n",
    "        \n",
    "# #         line_lens.append(len(fd.readline().split(',')))"
   ]
  },
  {
   "cell_type": "code",
   "execution_count": 205,
   "metadata": {},
   "outputs": [],
   "source": [
    "# write_lines = []\n",
    "# vals_line = lines[100].split(',')\n",
    "# for line in lines:\n",
    "#     valsinline = line.split(',')\n",
    "#     if(len(valsinline)==39):\n",
    "#         vals_line_1 = valsinline[:19]\n",
    "#         vals_line_2 = valsinline[20:]\n",
    "#         last_of_line_1 = valsinline[19][:-36]+'\\n'\n",
    "#         first_of_line_2 = valsinline[19][-36:]\n",
    "# #         print(last_of_line_1, first_of_line_2)\n",
    "#         vals_line_1.append(last_of_line_1+'\\n')\n",
    "#         vals_line_2.insert(0, first_of_line_2)\n",
    "        \n",
    "#         line_1 = ','.join(vals_line_1)\n",
    "#         line_2 = ','.join(vals_line_2)\n",
    "        \n",
    "#         print(line_1)\n",
    "#         for val in vals_line_1:\n",
    "#             print(val)\n",
    "        \n",
    "#         print(line_2)\n",
    "#         for val in vals_line_2:\n",
    "#             print(val)\n",
    "            \n",
    "#         print(lines[100])\n",
    "#         for val in vals_line:\n",
    "#             print(val)\n",
    "            \n",
    "#         write_lines.append(line_1)\n",
    "#         write_lines.append(line_2)\n",
    "        \n",
    "#     else:\n",
    "#         write_lines.append(line)\n",
    "        \n",
    "        \n",
    "        "
   ]
  },
  {
   "cell_type": "code",
   "execution_count": 151,
   "metadata": {},
   "outputs": [
    {
     "name": "stdout",
     "output_type": "stream",
     "text": [
      "19f3608c-096e-44e2-ad58-e015f2fc4d88 2016-07-09\n"
     ]
    }
   ],
   "source": [
    "print(line_39[0].split(',')[19][-36:], line_39[0].split(',')[19][:-36] )"
   ]
  },
  {
   "cell_type": "code",
   "execution_count": 150,
   "metadata": {},
   "outputs": [],
   "source": [
    "# line_39[0].split(',')"
   ]
  },
  {
   "cell_type": "code",
   "execution_count": 172,
   "metadata": {},
   "outputs": [],
   "source": [
    "with open(data_dir + 'BITSTAMP_TRADE_SPOTBTC_cum.csv','w') as fw:\n",
    "    fw.writelines(write_lines)\n",
    "    "
   ]
  }
 ],
 "metadata": {
  "kernelspec": {
   "display_name": "Python 3",
   "language": "python",
   "name": "python3"
  },
  "language_info": {
   "codemirror_mode": {
    "name": "ipython",
    "version": 3
   },
   "file_extension": ".py",
   "mimetype": "text/x-python",
   "name": "python",
   "nbconvert_exporter": "python",
   "pygments_lexer": "ipython3",
   "version": "3.6.4"
  }
 },
 "nbformat": 4,
 "nbformat_minor": 2
}
