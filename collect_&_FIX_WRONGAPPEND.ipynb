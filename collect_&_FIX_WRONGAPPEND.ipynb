{
 "cells": [
  {
   "cell_type": "markdown",
   "metadata": {},
   "source": [
    "# BITSTAMP BTC/USD Trade data"
   ]
  },
  {
   "cell_type": "code",
   "execution_count": 1,
   "metadata": {},
   "outputs": [],
   "source": [
    "## COIN CAP API\n",
    "import requests\n",
    "import pandas as pd\n",
    "import numpy as np\n",
    "import datetime\n",
    "import os\n",
    "\n",
    "# Yigit's functions\n",
    "import sys\n",
    "sys.path.append('../../Time_Series_Forecasting/TS_helpers/')\n",
    "from dates_coinapi import make_all_time_indexes, make_integer_time_index\n",
    "\n",
    "api_key = \"B90AC06B-4BCB-4FC2-B3BA-CBBABCF63791\"\n",
    "\n",
    "\n",
    "# URL and headers for coin api account\n",
    "url = 'https://rest.coinapi.io/v1/trades/BITSTAMP_SPOT_BTC_USD/history?'\n",
    "headers = {'X-CoinAPI-Key' : api_key}\n",
    "\n",
    "\n",
    "# Directory where data is read from and written to\n",
    "data_dir = '../../../Data/Coins/BTC_USD/Trade_Data/'"
   ]
  },
  {
   "cell_type": "code",
   "execution_count": 16,
   "metadata": {},
   "outputs": [
    {
     "data": {
      "text/html": [
       "<div>\n",
       "<style scoped>\n",
       "    .dataframe tbody tr th:only-of-type {\n",
       "        vertical-align: middle;\n",
       "    }\n",
       "\n",
       "    .dataframe tbody tr th {\n",
       "        vertical-align: top;\n",
       "    }\n",
       "\n",
       "    .dataframe thead th {\n",
       "        text-align: right;\n",
       "    }\n",
       "</style>\n",
       "<table border=\"1\" class=\"dataframe\">\n",
       "  <thead>\n",
       "    <tr style=\"text-align: right;\">\n",
       "      <th></th>\n",
       "      <th>date</th>\n",
       "      <th>day</th>\n",
       "      <th>hour</th>\n",
       "      <th>minute</th>\n",
       "      <th>month</th>\n",
       "      <th>price</th>\n",
       "      <th>second</th>\n",
       "      <th>size</th>\n",
       "      <th>symbol_id</th>\n",
       "      <th>taker_side</th>\n",
       "      <th>time_coinapi</th>\n",
       "      <th>time_day</th>\n",
       "      <th>time_exchange</th>\n",
       "      <th>time_hour</th>\n",
       "      <th>time_minute</th>\n",
       "      <th>time_month</th>\n",
       "      <th>time_second</th>\n",
       "      <th>time_year</th>\n",
       "      <th>year</th>\n",
       "    </tr>\n",
       "    <tr>\n",
       "      <th>uuid</th>\n",
       "      <th></th>\n",
       "      <th></th>\n",
       "      <th></th>\n",
       "      <th></th>\n",
       "      <th></th>\n",
       "      <th></th>\n",
       "      <th></th>\n",
       "      <th></th>\n",
       "      <th></th>\n",
       "      <th></th>\n",
       "      <th></th>\n",
       "      <th></th>\n",
       "      <th></th>\n",
       "      <th></th>\n",
       "      <th></th>\n",
       "      <th></th>\n",
       "      <th></th>\n",
       "      <th></th>\n",
       "      <th></th>\n",
       "    </tr>\n",
       "  </thead>\n",
       "  <tbody>\n",
       "    <tr>\n",
       "      <th>ec6fba23-29c7-4742-85b1-117b1e9e4574</th>\n",
       "      <td>2016-01-01</td>\n",
       "      <td>1</td>\n",
       "      <td>0</td>\n",
       "      <td>1.0</td>\n",
       "      <td>1.0</td>\n",
       "      <td>430.89</td>\n",
       "      <td>1</td>\n",
       "      <td>0.080631</td>\n",
       "      <td>BITSTAMP_SPOT_BTC_USD</td>\n",
       "      <td>UNKNOWN</td>\n",
       "      <td>2016-01-01T00:01:01.2570000Z</td>\n",
       "      <td>20160101</td>\n",
       "      <td>2016-01-01T00:01:01.1500000Z</td>\n",
       "      <td>2016010100</td>\n",
       "      <td>201601010001</td>\n",
       "      <td>201601.0</td>\n",
       "      <td>2.016010e+13</td>\n",
       "      <td>2016</td>\n",
       "      <td>2016</td>\n",
       "    </tr>\n",
       "    <tr>\n",
       "      <th>e435fd12-b49b-4334-9fff-9f37d8b2ce82</th>\n",
       "      <td>2016-01-01</td>\n",
       "      <td>1</td>\n",
       "      <td>0</td>\n",
       "      <td>2.0</td>\n",
       "      <td>1.0</td>\n",
       "      <td>430.89</td>\n",
       "      <td>13</td>\n",
       "      <td>0.096757</td>\n",
       "      <td>BITSTAMP_SPOT_BTC_USD</td>\n",
       "      <td>UNKNOWN</td>\n",
       "      <td>2016-01-01T00:02:14.0030000Z</td>\n",
       "      <td>20160101</td>\n",
       "      <td>2016-01-01T00:02:13.8870000Z</td>\n",
       "      <td>2016010100</td>\n",
       "      <td>201601010002</td>\n",
       "      <td>201601.0</td>\n",
       "      <td>2.016010e+13</td>\n",
       "      <td>2016</td>\n",
       "      <td>2016</td>\n",
       "    </tr>\n",
       "    <tr>\n",
       "      <th>df51e2de-1d76-4182-a269-7ef59c0ca1b3</th>\n",
       "      <td>2016-01-01</td>\n",
       "      <td>1</td>\n",
       "      <td>0</td>\n",
       "      <td>2.0</td>\n",
       "      <td>1.0</td>\n",
       "      <td>430.89</td>\n",
       "      <td>46</td>\n",
       "      <td>0.046500</td>\n",
       "      <td>BITSTAMP_SPOT_BTC_USD</td>\n",
       "      <td>UNKNOWN</td>\n",
       "      <td>2016-01-01T00:02:46.5800000Z</td>\n",
       "      <td>20160101</td>\n",
       "      <td>2016-01-01T00:02:46.4830000Z</td>\n",
       "      <td>2016010100</td>\n",
       "      <td>201601010002</td>\n",
       "      <td>201601.0</td>\n",
       "      <td>2.016010e+13</td>\n",
       "      <td>2016</td>\n",
       "      <td>2016</td>\n",
       "    </tr>\n",
       "    <tr>\n",
       "      <th>4c313843-3ed5-4222-9f01-597566506f26</th>\n",
       "      <td>2016-01-01</td>\n",
       "      <td>1</td>\n",
       "      <td>0</td>\n",
       "      <td>4.0</td>\n",
       "      <td>1.0</td>\n",
       "      <td>430.19</td>\n",
       "      <td>32</td>\n",
       "      <td>0.200000</td>\n",
       "      <td>BITSTAMP_SPOT_BTC_USD</td>\n",
       "      <td>UNKNOWN</td>\n",
       "      <td>2016-01-01T00:04:32.6400000Z</td>\n",
       "      <td>20160101</td>\n",
       "      <td>2016-01-01T00:04:32.5200000Z</td>\n",
       "      <td>2016010100</td>\n",
       "      <td>201601010004</td>\n",
       "      <td>201601.0</td>\n",
       "      <td>2.016010e+13</td>\n",
       "      <td>2016</td>\n",
       "      <td>2016</td>\n",
       "    </tr>\n",
       "    <tr>\n",
       "      <th>7e65517a-29ec-4cea-a625-0c080bce3921</th>\n",
       "      <td>2016-01-01</td>\n",
       "      <td>1</td>\n",
       "      <td>0</td>\n",
       "      <td>4.0</td>\n",
       "      <td>1.0</td>\n",
       "      <td>430.89</td>\n",
       "      <td>36</td>\n",
       "      <td>0.432161</td>\n",
       "      <td>BITSTAMP_SPOT_BTC_USD</td>\n",
       "      <td>UNKNOWN</td>\n",
       "      <td>2016-01-01T00:04:36.4800000Z</td>\n",
       "      <td>20160101</td>\n",
       "      <td>2016-01-01T00:04:36.3600000Z</td>\n",
       "      <td>2016010100</td>\n",
       "      <td>201601010004</td>\n",
       "      <td>201601.0</td>\n",
       "      <td>2.016010e+13</td>\n",
       "      <td>2016</td>\n",
       "      <td>2016</td>\n",
       "    </tr>\n",
       "  </tbody>\n",
       "</table>\n",
       "</div>"
      ],
      "text/plain": [
       "                                            date  day  hour  minute  month  \\\n",
       "uuid                                                                         \n",
       "ec6fba23-29c7-4742-85b1-117b1e9e4574  2016-01-01    1     0     1.0    1.0   \n",
       "e435fd12-b49b-4334-9fff-9f37d8b2ce82  2016-01-01    1     0     2.0    1.0   \n",
       "df51e2de-1d76-4182-a269-7ef59c0ca1b3  2016-01-01    1     0     2.0    1.0   \n",
       "4c313843-3ed5-4222-9f01-597566506f26  2016-01-01    1     0     4.0    1.0   \n",
       "7e65517a-29ec-4cea-a625-0c080bce3921  2016-01-01    1     0     4.0    1.0   \n",
       "\n",
       "                                       price  second      size  \\\n",
       "uuid                                                             \n",
       "ec6fba23-29c7-4742-85b1-117b1e9e4574  430.89       1  0.080631   \n",
       "e435fd12-b49b-4334-9fff-9f37d8b2ce82  430.89      13  0.096757   \n",
       "df51e2de-1d76-4182-a269-7ef59c0ca1b3  430.89      46  0.046500   \n",
       "4c313843-3ed5-4222-9f01-597566506f26  430.19      32  0.200000   \n",
       "7e65517a-29ec-4cea-a625-0c080bce3921  430.89      36  0.432161   \n",
       "\n",
       "                                                  symbol_id taker_side  \\\n",
       "uuid                                                                     \n",
       "ec6fba23-29c7-4742-85b1-117b1e9e4574  BITSTAMP_SPOT_BTC_USD    UNKNOWN   \n",
       "e435fd12-b49b-4334-9fff-9f37d8b2ce82  BITSTAMP_SPOT_BTC_USD    UNKNOWN   \n",
       "df51e2de-1d76-4182-a269-7ef59c0ca1b3  BITSTAMP_SPOT_BTC_USD    UNKNOWN   \n",
       "4c313843-3ed5-4222-9f01-597566506f26  BITSTAMP_SPOT_BTC_USD    UNKNOWN   \n",
       "7e65517a-29ec-4cea-a625-0c080bce3921  BITSTAMP_SPOT_BTC_USD    UNKNOWN   \n",
       "\n",
       "                                                      time_coinapi  time_day  \\\n",
       "uuid                                                                           \n",
       "ec6fba23-29c7-4742-85b1-117b1e9e4574  2016-01-01T00:01:01.2570000Z  20160101   \n",
       "e435fd12-b49b-4334-9fff-9f37d8b2ce82  2016-01-01T00:02:14.0030000Z  20160101   \n",
       "df51e2de-1d76-4182-a269-7ef59c0ca1b3  2016-01-01T00:02:46.5800000Z  20160101   \n",
       "4c313843-3ed5-4222-9f01-597566506f26  2016-01-01T00:04:32.6400000Z  20160101   \n",
       "7e65517a-29ec-4cea-a625-0c080bce3921  2016-01-01T00:04:36.4800000Z  20160101   \n",
       "\n",
       "                                                     time_exchange  \\\n",
       "uuid                                                                 \n",
       "ec6fba23-29c7-4742-85b1-117b1e9e4574  2016-01-01T00:01:01.1500000Z   \n",
       "e435fd12-b49b-4334-9fff-9f37d8b2ce82  2016-01-01T00:02:13.8870000Z   \n",
       "df51e2de-1d76-4182-a269-7ef59c0ca1b3  2016-01-01T00:02:46.4830000Z   \n",
       "4c313843-3ed5-4222-9f01-597566506f26  2016-01-01T00:04:32.5200000Z   \n",
       "7e65517a-29ec-4cea-a625-0c080bce3921  2016-01-01T00:04:36.3600000Z   \n",
       "\n",
       "                                       time_hour   time_minute  time_month  \\\n",
       "uuid                                                                         \n",
       "ec6fba23-29c7-4742-85b1-117b1e9e4574  2016010100  201601010001    201601.0   \n",
       "e435fd12-b49b-4334-9fff-9f37d8b2ce82  2016010100  201601010002    201601.0   \n",
       "df51e2de-1d76-4182-a269-7ef59c0ca1b3  2016010100  201601010002    201601.0   \n",
       "4c313843-3ed5-4222-9f01-597566506f26  2016010100  201601010004    201601.0   \n",
       "7e65517a-29ec-4cea-a625-0c080bce3921  2016010100  201601010004    201601.0   \n",
       "\n",
       "                                       time_second  time_year  year  \n",
       "uuid                                                                 \n",
       "ec6fba23-29c7-4742-85b1-117b1e9e4574  2.016010e+13       2016  2016  \n",
       "e435fd12-b49b-4334-9fff-9f37d8b2ce82  2.016010e+13       2016  2016  \n",
       "df51e2de-1d76-4182-a269-7ef59c0ca1b3  2.016010e+13       2016  2016  \n",
       "4c313843-3ed5-4222-9f01-597566506f26  2.016010e+13       2016  2016  \n",
       "7e65517a-29ec-4cea-a625-0c080bce3921  2.016010e+13       2016  2016  "
      ]
     },
     "execution_count": 16,
     "metadata": {},
     "output_type": "execute_result"
    }
   ],
   "source": [
    "data_ = pd.read_csv(data_dir + 'BITSTAMP_TRADE_SPOTBTC_cum_fix_trial.csv', index_col='uuid',nrows=5*10**6)\n",
    "data_.head()"
   ]
  },
  {
   "cell_type": "code",
   "execution_count": 21,
   "metadata": {},
   "outputs": [
    {
     "data": {
      "text/plain": [
       "<matplotlib.axes._subplots.AxesSubplot at 0x1187156d8>"
      ]
     },
     "execution_count": 21,
     "metadata": {},
     "output_type": "execute_result"
    },
    {
     "data": {
      "image/png": "[encoded data removed]",
      "text/plain": [
       "<Figure size 432x288 with 1 Axes>"
      ]
     },
     "metadata": {},
     "output_type": "display_data"
    }
   ],
   "source": [
    "data_.groupby('date')['price'].mean().plot()"
   ]
  },
  {
   "cell_type": "code",
   "execution_count": 14,
   "metadata": {},
   "outputs": [
    {
     "data": {
      "text/plain": [
       "uuid              object\n",
       "date              object\n",
       "day                int64\n",
       "hour               int64\n",
       "minute           float64\n",
       "month            float64\n",
       "price            float64\n",
       "second             int64\n",
       "size             float64\n",
       "symbol_id         object\n",
       "taker_side        object\n",
       "time_coinapi      object\n",
       "time_day           int64\n",
       "time_exchange     object\n",
       "time_hour          int64\n",
       "time_minute        int64\n",
       "time_month       float64\n",
       "time_second      float64\n",
       "time_year          int64\n",
       "year               int64\n",
       "dtype: object"
      ]
     },
     "execution_count": 14,
     "metadata": {},
     "output_type": "execute_result"
    }
   ],
   "source": [
    "# data_ = pd.read_csv(data_dir + 'BITSTAMP_TRADE_SPOTBTC_cum_fix_trial.csv',nrows=1)\n",
    "data_.dtypes"
   ]
  },
  {
   "cell_type": "code",
   "execution_count": 30,
   "metadata": {},
   "outputs": [],
   "source": [
    "mask_broken = (data['price']  == 'SELL') | (data['price'] == 'BUY')\n",
    "\n",
    "mask_ok = ~ mask_broken\n",
    "\n"
   ]
  },
  {
   "cell_type": "code",
   "execution_count": 64,
   "metadata": {},
   "outputs": [
    {
     "data": {
      "text/html": [
       "<div>\n",
       "<style scoped>\n",
       "    .dataframe tbody tr th:only-of-type {\n",
       "        vertical-align: middle;\n",
       "    }\n",
       "\n",
       "    .dataframe tbody tr th {\n",
       "        vertical-align: top;\n",
       "    }\n",
       "\n",
       "    .dataframe thead th {\n",
       "        text-align: right;\n",
       "    }\n",
       "</style>\n",
       "<table border=\"1\" class=\"dataframe\">\n",
       "  <thead>\n",
       "    <tr style=\"text-align: right;\">\n",
       "      <th></th>\n",
       "      <th>uuid</th>\n",
       "      <th>date</th>\n",
       "      <th>day</th>\n",
       "      <th>hour</th>\n",
       "      <th>minute</th>\n",
       "      <th>month</th>\n",
       "      <th>price</th>\n",
       "      <th>second</th>\n",
       "      <th>size</th>\n",
       "      <th>symbol_id</th>\n",
       "      <th>taker_side</th>\n",
       "      <th>time_coinapi</th>\n",
       "      <th>time_day</th>\n",
       "      <th>time_exchange</th>\n",
       "      <th>time_hour</th>\n",
       "      <th>time_minute</th>\n",
       "      <th>time_month</th>\n",
       "      <th>time_second</th>\n",
       "      <th>time_year</th>\n",
       "      <th>year</th>\n",
       "    </tr>\n",
       "  </thead>\n",
       "  <tbody>\n",
       "    <tr>\n",
       "      <th>0</th>\n",
       "      <td>631ab21d-7be4-4748-8a1c-f605634458c7</td>\n",
       "      <td>2017-11-10</td>\n",
       "      <td>10</td>\n",
       "      <td>16</td>\n",
       "      <td>36.0</td>\n",
       "      <td>11.0</td>\n",
       "      <td>6945.36</td>\n",
       "      <td>5</td>\n",
       "      <td>0.066066</td>\n",
       "      <td>BITSTAMP_SPOT_BTC_USD</td>\n",
       "      <td>BUY</td>\n",
       "      <td>2017-11-10T16:36:05.3636363Z</td>\n",
       "      <td>20171110</td>\n",
       "      <td>2017-11-10T16:36:05.0000000Z</td>\n",
       "      <td>2017111016</td>\n",
       "      <td>201711101636</td>\n",
       "      <td>201711</td>\n",
       "      <td>20171110163605</td>\n",
       "      <td>2017</td>\n",
       "      <td>2017</td>\n",
       "    </tr>\n",
       "  </tbody>\n",
       "</table>\n",
       "</div>"
      ],
      "text/plain": [
       "                                   uuid        date day hour  minute  month  \\\n",
       "0  631ab21d-7be4-4748-8a1c-f605634458c7  2017-11-10  10   16    36.0   11.0   \n",
       "\n",
       "     price  second      size              symbol_id taker_side  \\\n",
       "0  6945.36       5  0.066066  BITSTAMP_SPOT_BTC_USD        BUY   \n",
       "\n",
       "                   time_coinapi  time_day                 time_exchange  \\\n",
       "0  2017-11-10T16:36:05.3636363Z  20171110  2017-11-10T16:36:05.0000000Z   \n",
       "\n",
       "    time_hour   time_minute  time_month     time_second  time_year  year  \n",
       "0  2017111016  201711101636      201711  20171110163605       2017  2017  "
      ]
     },
     "execution_count": 64,
     "metadata": {},
     "output_type": "execute_result"
    }
   ],
   "source": [
    "data."
   ]
  },
  {
   "cell_type": "code",
   "execution_count": 48,
   "metadata": {},
   "outputs": [
    {
     "data": {
      "text/plain": [
       "'2017-11-10T16:36:04.0000000Z'"
      ]
     },
     "execution_count": 48,
     "metadata": {},
     "output_type": "execute_result"
    }
   ],
   "source": [
    "data[mask_ok]['time_exchange'].values[-1]"
   ]
  },
  {
   "cell_type": "code",
   "execution_count": 53,
   "metadata": {},
   "outputs": [],
   "source": [
    "data_broken = data[mask_broken].copy()"
   ]
  },
  {
   "cell_type": "code",
   "execution_count": 99,
   "metadata": {},
   "outputs": [
    {
     "data": {
      "text/html": [
       "<div>\n",
       "<style scoped>\n",
       "    .dataframe tbody tr th:only-of-type {\n",
       "        vertical-align: middle;\n",
       "    }\n",
       "\n",
       "    .dataframe tbody tr th {\n",
       "        vertical-align: top;\n",
       "    }\n",
       "\n",
       "    .dataframe thead th {\n",
       "        text-align: right;\n",
       "    }\n",
       "</style>\n",
       "<table border=\"1\" class=\"dataframe\">\n",
       "  <thead>\n",
       "    <tr style=\"text-align: right;\">\n",
       "      <th></th>\n",
       "      <th>date_</th>\n",
       "      <th>day_</th>\n",
       "      <th>hour_</th>\n",
       "      <th>minute_</th>\n",
       "      <th>month_</th>\n",
       "      <th>price_</th>\n",
       "      <th>second_</th>\n",
       "      <th>size_</th>\n",
       "      <th>symbol_id_</th>\n",
       "      <th>taker_side_</th>\n",
       "      <th>time_coinapi_</th>\n",
       "      <th>time_day_</th>\n",
       "      <th>time_exchange_</th>\n",
       "      <th>time_hour_</th>\n",
       "      <th>time_minute_</th>\n",
       "      <th>time_year_</th>\n",
       "      <th>year_</th>\n",
       "    </tr>\n",
       "  </thead>\n",
       "  <tbody>\n",
       "    <tr>\n",
       "      <th>6864988</th>\n",
       "      <td>2017-11-21</td>\n",
       "      <td>21</td>\n",
       "      <td>21</td>\n",
       "      <td>41</td>\n",
       "      <td>11.0</td>\n",
       "      <td>8158.91</td>\n",
       "      <td>4</td>\n",
       "      <td>0.000674</td>\n",
       "      <td>BITSTAMP_SPOT_BTC_USD</td>\n",
       "      <td>BUY</td>\n",
       "      <td>2017-11-21T21:41:04.4110299Z</td>\n",
       "      <td>4</td>\n",
       "      <td>2017-11-21T21:41:04.0000000Z</td>\n",
       "      <td>2017112121</td>\n",
       "      <td>201711212141</td>\n",
       "      <td>2017</td>\n",
       "      <td>2017</td>\n",
       "    </tr>\n",
       "    <tr>\n",
       "      <th>6864989</th>\n",
       "      <td>2017-11-21</td>\n",
       "      <td>21</td>\n",
       "      <td>21</td>\n",
       "      <td>41</td>\n",
       "      <td>11.0</td>\n",
       "      <td>8158.99</td>\n",
       "      <td>4</td>\n",
       "      <td>0.000797</td>\n",
       "      <td>BITSTAMP_SPOT_BTC_USD</td>\n",
       "      <td>BUY</td>\n",
       "      <td>2017-11-21T21:41:04.6766546Z</td>\n",
       "      <td>4</td>\n",
       "      <td>2017-11-21T21:41:04.0000000Z</td>\n",
       "      <td>2017112121</td>\n",
       "      <td>201711212141</td>\n",
       "      <td>2017</td>\n",
       "      <td>2017</td>\n",
       "    </tr>\n",
       "  </tbody>\n",
       "</table>\n",
       "</div>"
      ],
      "text/plain": [
       "              date_ day_ hour_ minute_  month_   price_  second_     size_  \\\n",
       "6864988  2017-11-21   21    21      41    11.0  8158.91        4  0.000674   \n",
       "6864989  2017-11-21   21    21      41    11.0  8158.99        4  0.000797   \n",
       "\n",
       "                    symbol_id_ taker_side_                 time_coinapi_  \\\n",
       "6864988  BITSTAMP_SPOT_BTC_USD         BUY  2017-11-21T21:41:04.4110299Z   \n",
       "6864989  BITSTAMP_SPOT_BTC_USD         BUY  2017-11-21T21:41:04.6766546Z   \n",
       "\n",
       "         time_day_                time_exchange_  time_hour_  time_minute_  \\\n",
       "6864988          4  2017-11-21T21:41:04.0000000Z  2017112121  201711212141   \n",
       "6864989          4  2017-11-21T21:41:04.0000000Z  2017112121  201711212141   \n",
       "\n",
       "         time_year_ year_  \n",
       "6864988        2017  2017  \n",
       "6864989        2017  2017  "
      ]
     },
     "execution_count": 99,
     "metadata": {},
     "output_type": "execute_result"
    }
   ],
   "source": [
    "data_broken[[col for col in data_broken.columns if col[-1]=='_']].head(2)"
   ]
  },
  {
   "cell_type": "code",
   "execution_count": 103,
   "metadata": {},
   "outputs": [
    {
     "data": {
      "text/html": [
       "<div>\n",
       "<style scoped>\n",
       "    .dataframe tbody tr th:only-of-type {\n",
       "        vertical-align: middle;\n",
       "    }\n",
       "\n",
       "    .dataframe tbody tr th {\n",
       "        vertical-align: top;\n",
       "    }\n",
       "\n",
       "    .dataframe thead th {\n",
       "        text-align: right;\n",
       "    }\n",
       "</style>\n",
       "<table border=\"1\" class=\"dataframe\">\n",
       "  <thead>\n",
       "    <tr style=\"text-align: right;\">\n",
       "      <th></th>\n",
       "      <th>uuid</th>\n",
       "      <th>date</th>\n",
       "      <th>day</th>\n",
       "      <th>hour</th>\n",
       "      <th>minute</th>\n",
       "      <th>month</th>\n",
       "      <th>price</th>\n",
       "      <th>second</th>\n",
       "      <th>size</th>\n",
       "      <th>symbol_id</th>\n",
       "      <th>taker_side</th>\n",
       "      <th>time_coinapi</th>\n",
       "      <th>time_day</th>\n",
       "      <th>time_exchange</th>\n",
       "      <th>time_hour</th>\n",
       "      <th>time_minute</th>\n",
       "      <th>time_month</th>\n",
       "      <th>time_second</th>\n",
       "      <th>time_year</th>\n",
       "      <th>year</th>\n",
       "    </tr>\n",
       "  </thead>\n",
       "  <tbody>\n",
       "    <tr>\n",
       "      <th>399999</th>\n",
       "      <td>9639a7c8-625d-4fcf-836f-4f2990cf57d7</td>\n",
       "      <td>2017-11-21</td>\n",
       "      <td>21</td>\n",
       "      <td>21</td>\n",
       "      <td>40.0</td>\n",
       "      <td>11.0</td>\n",
       "      <td>8158.97</td>\n",
       "      <td>56</td>\n",
       "      <td>0.000674</td>\n",
       "      <td>BITSTAMP_SPOT_BTC_USD</td>\n",
       "      <td>BUY</td>\n",
       "      <td>2017-11-21T21:40:56.5047753Z</td>\n",
       "      <td>20171121</td>\n",
       "      <td>2017-11-21T21:40:56.0000000Z</td>\n",
       "      <td>2017112121</td>\n",
       "      <td>201711212140</td>\n",
       "      <td>201711</td>\n",
       "      <td>20171121214056</td>\n",
       "      <td>2017</td>\n",
       "      <td>2017</td>\n",
       "    </tr>\n",
       "  </tbody>\n",
       "</table>\n",
       "</div>"
      ],
      "text/plain": [
       "                                        uuid        date day hour  minute  \\\n",
       "399999  9639a7c8-625d-4fcf-836f-4f2990cf57d7  2017-11-21  21   21    40.0   \n",
       "\n",
       "        month    price  second      size              symbol_id taker_side  \\\n",
       "399999   11.0  8158.97      56  0.000674  BITSTAMP_SPOT_BTC_USD        BUY   \n",
       "\n",
       "                        time_coinapi  time_day                 time_exchange  \\\n",
       "399999  2017-11-21T21:40:56.5047753Z  20171121  2017-11-21T21:40:56.0000000Z   \n",
       "\n",
       "         time_hour   time_minute  time_month     time_second  time_year  year  \n",
       "399999  2017112121  201711212140      201711  20171121214056       2017  2017  "
      ]
     },
     "execution_count": 103,
     "metadata": {},
     "output_type": "execute_result"
    }
   ],
   "source": [
    "# data_fixed = data[mask_ok].copy()\n",
    "# data_fixed['price'] = data_fixed['price'].astype(float)\n",
    "# data_fixed.groupby('date')['size'].sum().plot()\n",
    "data_fixed[data_fixed['time_coinapi'] == data_fixed['time_coinapi'].max()]"
   ]
  },
  {
   "cell_type": "code",
   "execution_count": 60,
   "metadata": {},
   "outputs": [
    {
     "data": {
      "text/html": [
       "<div>\n",
       "<style scoped>\n",
       "    .dataframe tbody tr th:only-of-type {\n",
       "        vertical-align: middle;\n",
       "    }\n",
       "\n",
       "    .dataframe tbody tr th {\n",
       "        vertical-align: top;\n",
       "    }\n",
       "\n",
       "    .dataframe thead th {\n",
       "        text-align: right;\n",
       "    }\n",
       "</style>\n",
       "<table border=\"1\" class=\"dataframe\">\n",
       "  <thead>\n",
       "    <tr style=\"text-align: right;\">\n",
       "      <th></th>\n",
       "      <th>uuid</th>\n",
       "      <th>date</th>\n",
       "      <th>day</th>\n",
       "      <th>hour</th>\n",
       "      <th>minute</th>\n",
       "      <th>month</th>\n",
       "      <th>price</th>\n",
       "      <th>second</th>\n",
       "      <th>size</th>\n",
       "      <th>symbol_id</th>\n",
       "      <th>taker_side</th>\n",
       "      <th>time_coinapi</th>\n",
       "      <th>time_day</th>\n",
       "      <th>time_exchange</th>\n",
       "      <th>time_hour</th>\n",
       "      <th>time_minute</th>\n",
       "      <th>time_month</th>\n",
       "      <th>time_second</th>\n",
       "      <th>time_year</th>\n",
       "      <th>year</th>\n",
       "    </tr>\n",
       "  </thead>\n",
       "  <tbody>\n",
       "    <tr>\n",
       "      <th>6864996</th>\n",
       "      <td>a452b57e-7eb3-43d3-811b-e6503b2b1eff</td>\n",
       "      <td>BITSTAMP_SPOT_BTC_USD</td>\n",
       "      <td>2017-11-21T21:41:07.0000000Z</td>\n",
       "      <td>2017-11-21T21:41:07.7235388Z</td>\n",
       "      <td>8159.00</td>\n",
       "      <td>0.042081</td>\n",
       "      <td>BUY</td>\n",
       "      <td>2017</td>\n",
       "      <td>11.0</td>\n",
       "      <td>21</td>\n",
       "      <td>21</td>\n",
       "      <td>41</td>\n",
       "      <td>7</td>\n",
       "      <td>2017</td>\n",
       "      <td>201711</td>\n",
       "      <td>20171121</td>\n",
       "      <td>2017112121</td>\n",
       "      <td>201711212141</td>\n",
       "      <td>20171121214107</td>\n",
       "      <td>2017-11-21</td>\n",
       "    </tr>\n",
       "    <tr>\n",
       "      <th>6864997</th>\n",
       "      <td>6309e2ba-4c87-4a32-a593-378595f32810</td>\n",
       "      <td>BITSTAMP_SPOT_BTC_USD</td>\n",
       "      <td>2017-11-21T21:41:07.0000000Z</td>\n",
       "      <td>2017-11-21T21:41:07.2352857Z</td>\n",
       "      <td>8158.91</td>\n",
       "      <td>0.002022</td>\n",
       "      <td>BUY</td>\n",
       "      <td>2017</td>\n",
       "      <td>11.0</td>\n",
       "      <td>21</td>\n",
       "      <td>21</td>\n",
       "      <td>41</td>\n",
       "      <td>7</td>\n",
       "      <td>2017</td>\n",
       "      <td>201711</td>\n",
       "      <td>20171121</td>\n",
       "      <td>2017112121</td>\n",
       "      <td>201711212141</td>\n",
       "      <td>20171121214107</td>\n",
       "      <td>2017-11-21</td>\n",
       "    </tr>\n",
       "  </tbody>\n",
       "</table>\n",
       "</div>"
      ],
      "text/plain": [
       "                                         uuid                   date  \\\n",
       "6864996  a452b57e-7eb3-43d3-811b-e6503b2b1eff  BITSTAMP_SPOT_BTC_USD   \n",
       "6864997  6309e2ba-4c87-4a32-a593-378595f32810  BITSTAMP_SPOT_BTC_USD   \n",
       "\n",
       "                                  day                          hour   minute  \\\n",
       "6864996  2017-11-21T21:41:07.0000000Z  2017-11-21T21:41:07.7235388Z  8159.00   \n",
       "6864997  2017-11-21T21:41:07.0000000Z  2017-11-21T21:41:07.2352857Z  8158.91   \n",
       "\n",
       "            month price  second  size symbol_id taker_side time_coinapi  \\\n",
       "6864996  0.042081   BUY    2017  11.0        21         21           41   \n",
       "6864997  0.002022   BUY    2017  11.0        21         21           41   \n",
       "\n",
       "         time_day time_exchange  time_hour  time_minute  time_month  \\\n",
       "6864996         7          2017     201711     20171121  2017112121   \n",
       "6864997         7          2017     201711     20171121  2017112121   \n",
       "\n",
       "          time_second       time_year        year  \n",
       "6864996  201711212141  20171121214107  2017-11-21  \n",
       "6864997  201711212141  20171121214107  2017-11-21  "
      ]
     },
     "execution_count": 60,
     "metadata": {},
     "output_type": "execute_result"
    }
   ],
   "source": [
    "data_broken[:10].tail(2)  "
   ]
  },
  {
   "cell_type": "code",
   "execution_count": null,
   "metadata": {},
   "outputs": [],
   "source": [
    "data_broken[[col for col in data_broken.columns if col[-1]=='_']]"
   ]
  },
  {
   "cell_type": "code",
   "execution_count": 104,
   "metadata": {},
   "outputs": [],
   "source": [
    "\n",
    "data_broken['date_'] = data_broken['year']\n",
    "data_broken['day_'] = data_broken['symbol_id']\n",
    "data_broken['hour_'] = data_broken['taker_side']\n",
    "data_broken['minute_'] = data_broken['time_coinapi']\n",
    "data_broken['month_'] = data_broken['size']\n",
    "data_broken['price_'] = data_broken['minute']\n",
    "data_broken['second_'] = data_broken['time_day']\n",
    "data_broken['size_'] = data_broken['month']\n",
    "data_broken['symbol_id_'] = data_broken['date']\n",
    "data_broken['taker_side_'] = data_broken['price']\n",
    "data_broken['time_coinapi_'] = data_broken['hour']\n",
    "data_broken['time_day_'] = data_broken['time_day']\n",
    "data_broken['time_exchange_'] = data_broken['day']\n",
    "data_broken['time_hour_'] = data_broken['time_month']\n",
    "data_broken['time_minute_'] = data_broken['time_second']\n",
    "data_broken['time_year_'] = data_broken['second']\n",
    "data_broken['year_'] = data_broken['time_exchange']\n"
   ]
  },
  {
   "cell_type": "code",
   "execution_count": 105,
   "metadata": {},
   "outputs": [],
   "source": [
    "data_broken = data_broken[[col for col in data_broken.columns if col[-1]=='_']]\n",
    "data_broken.columns = [col[:-1] for col in data_broken.columns if col[-1]=='_']"
   ]
  },
  {
   "cell_type": "code",
   "execution_count": 106,
   "metadata": {},
   "outputs": [
    {
     "data": {
      "text/html": [
       "<div>\n",
       "<style scoped>\n",
       "    .dataframe tbody tr th:only-of-type {\n",
       "        vertical-align: middle;\n",
       "    }\n",
       "\n",
       "    .dataframe tbody tr th {\n",
       "        vertical-align: top;\n",
       "    }\n",
       "\n",
       "    .dataframe thead th {\n",
       "        text-align: right;\n",
       "    }\n",
       "</style>\n",
       "<table border=\"1\" class=\"dataframe\">\n",
       "  <thead>\n",
       "    <tr style=\"text-align: right;\">\n",
       "      <th></th>\n",
       "      <th>date</th>\n",
       "      <th>day</th>\n",
       "      <th>hour</th>\n",
       "      <th>minute</th>\n",
       "      <th>month</th>\n",
       "      <th>price</th>\n",
       "      <th>second</th>\n",
       "      <th>size</th>\n",
       "      <th>symbol_id</th>\n",
       "      <th>taker_side</th>\n",
       "      <th>time_coinapi</th>\n",
       "      <th>time_day</th>\n",
       "      <th>time_exchange</th>\n",
       "      <th>time_hour</th>\n",
       "      <th>time_minute</th>\n",
       "      <th>time_year</th>\n",
       "      <th>year</th>\n",
       "    </tr>\n",
       "  </thead>\n",
       "  <tbody>\n",
       "    <tr>\n",
       "      <th>6864988</th>\n",
       "      <td>2017-11-21</td>\n",
       "      <td>21</td>\n",
       "      <td>21</td>\n",
       "      <td>41</td>\n",
       "      <td>11.0</td>\n",
       "      <td>8158.91</td>\n",
       "      <td>4</td>\n",
       "      <td>0.000674</td>\n",
       "      <td>BITSTAMP_SPOT_BTC_USD</td>\n",
       "      <td>BUY</td>\n",
       "      <td>2017-11-21T21:41:04.4110299Z</td>\n",
       "      <td>4</td>\n",
       "      <td>2017-11-21T21:41:04.0000000Z</td>\n",
       "      <td>2017112121</td>\n",
       "      <td>201711212141</td>\n",
       "      <td>2017</td>\n",
       "      <td>2017</td>\n",
       "    </tr>\n",
       "  </tbody>\n",
       "</table>\n",
       "</div>"
      ],
      "text/plain": [
       "               date day hour minute  month    price  second      size  \\\n",
       "6864988  2017-11-21  21   21     41   11.0  8158.91       4  0.000674   \n",
       "\n",
       "                     symbol_id taker_side                  time_coinapi  \\\n",
       "6864988  BITSTAMP_SPOT_BTC_USD        BUY  2017-11-21T21:41:04.4110299Z   \n",
       "\n",
       "         time_day                 time_exchange   time_hour   time_minute  \\\n",
       "6864988         4  2017-11-21T21:41:04.0000000Z  2017112121  201711212141   \n",
       "\n",
       "         time_year  year  \n",
       "6864988       2017  2017  "
      ]
     },
     "execution_count": 106,
     "metadata": {},
     "output_type": "execute_result"
    }
   ],
   "source": [
    "data_broken.head(1)"
   ]
  },
  {
   "cell_type": "code",
   "execution_count": 107,
   "metadata": {},
   "outputs": [
    {
     "data": {
      "text/html": [
       "<div>\n",
       "<style scoped>\n",
       "    .dataframe tbody tr th:only-of-type {\n",
       "        vertical-align: middle;\n",
       "    }\n",
       "\n",
       "    .dataframe tbody tr th {\n",
       "        vertical-align: top;\n",
       "    }\n",
       "\n",
       "    .dataframe thead th {\n",
       "        text-align: right;\n",
       "    }\n",
       "</style>\n",
       "<table border=\"1\" class=\"dataframe\">\n",
       "  <thead>\n",
       "    <tr style=\"text-align: right;\">\n",
       "      <th></th>\n",
       "      <th>uuid</th>\n",
       "      <th>date</th>\n",
       "      <th>day</th>\n",
       "      <th>hour</th>\n",
       "      <th>minute</th>\n",
       "      <th>month</th>\n",
       "      <th>price</th>\n",
       "      <th>second</th>\n",
       "      <th>size</th>\n",
       "      <th>symbol_id</th>\n",
       "      <th>taker_side</th>\n",
       "      <th>time_coinapi</th>\n",
       "      <th>time_day</th>\n",
       "      <th>time_exchange</th>\n",
       "      <th>time_hour</th>\n",
       "      <th>time_minute</th>\n",
       "      <th>time_month</th>\n",
       "      <th>time_second</th>\n",
       "      <th>time_year</th>\n",
       "      <th>year</th>\n",
       "    </tr>\n",
       "  </thead>\n",
       "  <tbody>\n",
       "    <tr>\n",
       "      <th>6864987</th>\n",
       "      <td>b37bfb8d-2a7c-4734-affc-29555f6a64ca</td>\n",
       "      <td>2017-11-10</td>\n",
       "      <td>10</td>\n",
       "      <td>16</td>\n",
       "      <td>36.0</td>\n",
       "      <td>11.0</td>\n",
       "      <td>6945.36</td>\n",
       "      <td>4</td>\n",
       "      <td>2.485</td>\n",
       "      <td>BITSTAMP_SPOT_BTC_USD</td>\n",
       "      <td>BUY</td>\n",
       "      <td>2017-11-10T16:36:05.2278232Z</td>\n",
       "      <td>20171110</td>\n",
       "      <td>2017-11-10T16:36:04.0000000Z</td>\n",
       "      <td>2017111016</td>\n",
       "      <td>201711101636</td>\n",
       "      <td>201711</td>\n",
       "      <td>20171110163604</td>\n",
       "      <td>2017</td>\n",
       "      <td>2017</td>\n",
       "    </tr>\n",
       "  </tbody>\n",
       "</table>\n",
       "</div>"
      ],
      "text/plain": [
       "                                         uuid        date day hour  minute  \\\n",
       "6864987  b37bfb8d-2a7c-4734-affc-29555f6a64ca  2017-11-10  10   16    36.0   \n",
       "\n",
       "         month    price  second   size              symbol_id taker_side  \\\n",
       "6864987   11.0  6945.36       4  2.485  BITSTAMP_SPOT_BTC_USD        BUY   \n",
       "\n",
       "                         time_coinapi  time_day                 time_exchange  \\\n",
       "6864987  2017-11-10T16:36:05.2278232Z  20171110  2017-11-10T16:36:04.0000000Z   \n",
       "\n",
       "          time_hour   time_minute  time_month     time_second  time_year  year  \n",
       "6864987  2017111016  201711101636      201711  20171110163604       2017  2017  "
      ]
     },
     "execution_count": 107,
     "metadata": {},
     "output_type": "execute_result"
    }
   ],
   "source": [
    "data_fixed.tail(1)"
   ]
  },
  {
   "cell_type": "code",
   "execution_count": 109,
   "metadata": {},
   "outputs": [
    {
     "name": "stderr",
     "output_type": "stream",
     "text": [
      "/Library/Frameworks/Python.framework/Versions/3.6/lib/python3.6/site-packages/ipykernel_launcher.py:1: FutureWarning: Sorting because non-concatenation axis is not aligned. A future version\n",
      "of pandas will change to not sort by default.\n",
      "\n",
      "To accept the future behavior, pass 'sort=False'.\n",
      "\n",
      "To retain the current behavior and silence the warning, pass 'sort=True'.\n",
      "\n",
      "  \"\"\"Entry point for launching an IPython kernel.\n"
     ]
    }
   ],
   "source": [
    "data_fixed_joined = pd.concat([data_fixed, data_broken])"
   ]
  },
  {
   "cell_type": "code",
   "execution_count": 118,
   "metadata": {},
   "outputs": [],
   "source": [
    "# data_fixed_joined.set_index('uuid', inplace=True)\n",
    "# data_fixed_joined.sort_values('time_coinapi',inplace=True)\n",
    "data_fixed_joined.to_csv(data_dir + 'BITSTAMP_TRADE_SPOTBTC_cum_fix_trial.csv')"
   ]
  },
  {
   "cell_type": "markdown",
   "metadata": {},
   "source": [
    "## Load existing(cumulative) data / Add new / Save all together csv"
   ]
  },
  {
   "cell_type": "code",
   "execution_count": 72,
   "metadata": {},
   "outputs": [
    {
     "data": {
      "text/plain": [
       "(1, 19)"
      ]
     },
     "execution_count": 72,
     "metadata": {},
     "output_type": "execute_result"
    }
   ],
   "source": [
    "df_saved = pd.read_csv( data_dir + 'BITSTAMP_TRADE' , index_col='uuid')\n",
    "df_saved.shape\n",
    "# df_new.tail(1).to_csv(data_dir + 'BITSTAMP_TRADE_SPOTBTC_last_saved_trade.csv')"
   ]
  },
  {
   "cell_type": "code",
   "execution_count": 73,
   "metadata": {},
   "outputs": [
    {
     "data": {
      "text/html": [
       "<div>\n",
       "<style scoped>\n",
       "    .dataframe tbody tr th:only-of-type {\n",
       "        vertical-align: middle;\n",
       "    }\n",
       "\n",
       "    .dataframe tbody tr th {\n",
       "        vertical-align: top;\n",
       "    }\n",
       "\n",
       "    .dataframe thead th {\n",
       "        text-align: right;\n",
       "    }\n",
       "</style>\n",
       "<table border=\"1\" class=\"dataframe\">\n",
       "  <thead>\n",
       "    <tr style=\"text-align: right;\">\n",
       "      <th></th>\n",
       "      <th>price</th>\n",
       "      <th>size</th>\n",
       "      <th>symbol_id</th>\n",
       "      <th>taker_side</th>\n",
       "      <th>time_coinapi</th>\n",
       "      <th>time_exchange</th>\n",
       "      <th>year</th>\n",
       "      <th>month</th>\n",
       "      <th>day</th>\n",
       "      <th>hour</th>\n",
       "      <th>minute</th>\n",
       "      <th>second</th>\n",
       "      <th>time_year</th>\n",
       "      <th>time_month</th>\n",
       "      <th>time_day</th>\n",
       "      <th>time_hour</th>\n",
       "      <th>time_minute</th>\n",
       "      <th>time_second</th>\n",
       "      <th>date</th>\n",
       "    </tr>\n",
       "    <tr>\n",
       "      <th>uuid</th>\n",
       "      <th></th>\n",
       "      <th></th>\n",
       "      <th></th>\n",
       "      <th></th>\n",
       "      <th></th>\n",
       "      <th></th>\n",
       "      <th></th>\n",
       "      <th></th>\n",
       "      <th></th>\n",
       "      <th></th>\n",
       "      <th></th>\n",
       "      <th></th>\n",
       "      <th></th>\n",
       "      <th></th>\n",
       "      <th></th>\n",
       "      <th></th>\n",
       "      <th></th>\n",
       "      <th></th>\n",
       "      <th></th>\n",
       "    </tr>\n",
       "  </thead>\n",
       "  <tbody>\n",
       "    <tr>\n",
       "      <th>06f5bf72-488a-41e5-8e09-7bd6f695ef73</th>\n",
       "      <td>748.02</td>\n",
       "      <td>0.01</td>\n",
       "      <td>BITSTAMP_SPOT_BTC_USD</td>\n",
       "      <td>SELL</td>\n",
       "      <td>2016-11-19T00:30:35.7033883Z</td>\n",
       "      <td>2016-11-19T00:30:35.0000000Z</td>\n",
       "      <td>2016</td>\n",
       "      <td>11</td>\n",
       "      <td>19</td>\n",
       "      <td>0</td>\n",
       "      <td>30</td>\n",
       "      <td>35</td>\n",
       "      <td>2016</td>\n",
       "      <td>201611</td>\n",
       "      <td>20161119</td>\n",
       "      <td>2016111900</td>\n",
       "      <td>201611190030</td>\n",
       "      <td>20161119003035</td>\n",
       "      <td>2016-11-19</td>\n",
       "    </tr>\n",
       "  </tbody>\n",
       "</table>\n",
       "</div>"
      ],
      "text/plain": [
       "                                       price  size              symbol_id  \\\n",
       "uuid                                                                        \n",
       "06f5bf72-488a-41e5-8e09-7bd6f695ef73  748.02  0.01  BITSTAMP_SPOT_BTC_USD   \n",
       "\n",
       "                                     taker_side                  time_coinapi  \\\n",
       "uuid                                                                            \n",
       "06f5bf72-488a-41e5-8e09-7bd6f695ef73       SELL  2016-11-19T00:30:35.7033883Z   \n",
       "\n",
       "                                                     time_exchange  year  \\\n",
       "uuid                                                                       \n",
       "06f5bf72-488a-41e5-8e09-7bd6f695ef73  2016-11-19T00:30:35.0000000Z  2016   \n",
       "\n",
       "                                      month  day  hour  minute  second  \\\n",
       "uuid                                                                     \n",
       "06f5bf72-488a-41e5-8e09-7bd6f695ef73     11   19     0      30      35   \n",
       "\n",
       "                                      time_year  time_month  time_day  \\\n",
       "uuid                                                                    \n",
       "06f5bf72-488a-41e5-8e09-7bd6f695ef73       2016      201611  20161119   \n",
       "\n",
       "                                       time_hour   time_minute  \\\n",
       "uuid                                                             \n",
       "06f5bf72-488a-41e5-8e09-7bd6f695ef73  2016111900  201611190030   \n",
       "\n",
       "                                         time_second        date  \n",
       "uuid                                                              \n",
       "06f5bf72-488a-41e5-8e09-7bd6f695ef73  20161119003035  2016-11-19  "
      ]
     },
     "execution_count": 73,
     "metadata": {},
     "output_type": "execute_result"
    }
   ],
   "source": [
    "df_saved"
   ]
  },
  {
   "cell_type": "markdown",
   "metadata": {},
   "source": [
    "##### TODO ADD DATE MANIPULATION FOR STARTING FROM NEXT DAY"
   ]
  },
  {
   "cell_type": "code",
   "execution_count": 125,
   "metadata": {},
   "outputs": [],
   "source": [
    "# Manual day addition until above code fixed\n",
    "\n",
    "first_day_of_new = df_saved['time_exchange'].max()\n",
    "if first_day_of_new[-9:-1] != '.9999999':\n",
    "    next_time = str(int(first_day_of_new[-8:-1])+1)\n",
    "    first_day_of_new = first_day_of_new[:-8]+ \"0\"*int(len('0000000')-len(next_time)) + next_time + 'Z'\n",
    "else:\n",
    "    None\n",
    "    \n",
    "last_day_of_new = '2018-01-01'"
   ]
  },
  {
   "cell_type": "code",
   "execution_count": 126,
   "metadata": {},
   "outputs": [
    {
     "name": "stdout",
     "output_type": "stream",
     "text": [
      "2016-11-19T00:30:35.0000001Z\n",
      "2018-01-01\n"
     ]
    }
   ],
   "source": [
    "print(first_day_of_new)\n",
    "print(last_day_of_new)"
   ]
  },
  {
   "cell_type": "markdown",
   "metadata": {},
   "source": [
    "#### Get JSON data for next day(s)"
   ]
  },
  {
   "cell_type": "code",
   "execution_count": 127,
   "metadata": {},
   "outputs": [
    {
     "name": "stdout",
     "output_type": "stream",
     "text": [
      "Limit yok.\n"
     ]
    }
   ],
   "source": [
    "url = 'https://rest.coinapi.io/v1/trades/BITSTAMP_SPOT_BTC_USD/history?time_start='+ first_day_of_new + '&time_end=' + last_day_of_new + '&limit=100000'\n",
    "\n",
    "# # url = 'https://rest.coinapi.io/v1/ohlcv/BITSTAMP_SPOT_BTC_USD/history?period_id=1MIN&time_start=2016-01-01T00:00:00'\n",
    "\n",
    "response = requests.get(url, headers=headers)\n",
    "\n",
    "if response.content[2:7] != b'error':\n",
    "    df_new = pd.read_json(response.content).set_index('uuid')\n",
    "    print(df_new.shape)\n",
    "else:\n",
    "    print('Limit yok.')"
   ]
  },
  {
   "cell_type": "markdown",
   "metadata": {},
   "source": [
    "### Make integer indexes"
   ]
  },
  {
   "cell_type": "code",
   "execution_count": 60,
   "metadata": {},
   "outputs": [
    {
     "name": "stdout",
     "output_type": "stream",
     "text": [
      "cycle year\n",
      "cycle month\n",
      "cycle day\n",
      "cycle hour\n",
      "cycle minute\n",
      "cycle second\n",
      "bin year\n",
      "bin month\n",
      "bin day\n",
      "bin hour\n",
      "bin minute\n",
      "bin second\n"
     ]
    }
   ],
   "source": [
    "df_saved.columns\n",
    "\n",
    "df_new = make_all_time_indexes(df_new)"
   ]
  },
  {
   "cell_type": "code",
   "execution_count": 128,
   "metadata": {},
   "outputs": [
    {
     "name": "stdout",
     "output_type": "stream",
     "text": [
      "2016-11-19T00:30:35.0000000Z\n",
      "2016-11-10T04:14:17.0000000Z\n",
      "2016-11-19T00:30:35.0000000Z\n"
     ]
    }
   ],
   "source": [
    "print(df_saved['time_exchange'].unique().max())\n",
    "print(df_new['time_exchange'].unique().min())\n",
    "print(df_new['time_exchange'].unique().max())"
   ]
  },
  {
   "cell_type": "code",
   "execution_count": 62,
   "metadata": {},
   "outputs": [],
   "source": [
    "# from datetime import datetime as dt\n",
    "\n",
    "# dt.strptime('2016-04-10T22:02:50.73000Z', '%Y-%m-%dT%H:%M:%S.%fZ')"
   ]
  },
  {
   "cell_type": "markdown",
   "metadata": {},
   "source": [
    "### Indirilen yeni verinin uygunluguna dair bazi checkler"
   ]
  },
  {
   "cell_type": "code",
   "execution_count": 63,
   "metadata": {},
   "outputs": [
    {
     "data": {
      "text/plain": [
       "True"
      ]
     },
     "execution_count": 63,
     "metadata": {},
     "output_type": "execute_result"
    }
   ],
   "source": [
    "df_new.shape[0] == df_new.index.nunique()"
   ]
  },
  {
   "cell_type": "code",
   "execution_count": 64,
   "metadata": {},
   "outputs": [
    {
     "data": {
      "text/plain": [
       "True"
      ]
     },
     "execution_count": 64,
     "metadata": {},
     "output_type": "execute_result"
    }
   ],
   "source": [
    "all(df_new.isna().mean() == 0)"
   ]
  },
  {
   "cell_type": "code",
   "execution_count": 65,
   "metadata": {},
   "outputs": [],
   "source": [
    "df_both = df_saved.append(df_new)"
   ]
  },
  {
   "cell_type": "code",
   "execution_count": 66,
   "metadata": {},
   "outputs": [
    {
     "data": {
      "text/plain": [
       "True"
      ]
     },
     "execution_count": 66,
     "metadata": {},
     "output_type": "execute_result"
    }
   ],
   "source": [
    "df_both.shape[0] - df_saved.shape[0] == df_new.shape[0]"
   ]
  },
  {
   "cell_type": "code",
   "execution_count": 67,
   "metadata": {},
   "outputs": [
    {
     "data": {
      "text/html": [
       "<div>\n",
       "<style scoped>\n",
       "    .dataframe tbody tr th:only-of-type {\n",
       "        vertical-align: middle;\n",
       "    }\n",
       "\n",
       "    .dataframe tbody tr th {\n",
       "        vertical-align: top;\n",
       "    }\n",
       "\n",
       "    .dataframe thead th {\n",
       "        text-align: right;\n",
       "    }\n",
       "</style>\n",
       "<table border=\"1\" class=\"dataframe\">\n",
       "  <thead>\n",
       "    <tr style=\"text-align: right;\">\n",
       "      <th></th>\n",
       "      <th>price</th>\n",
       "      <th>size</th>\n",
       "      <th>symbol_id</th>\n",
       "      <th>taker_side</th>\n",
       "      <th>time_coinapi</th>\n",
       "      <th>time_exchange</th>\n",
       "      <th>year</th>\n",
       "      <th>month</th>\n",
       "      <th>day</th>\n",
       "      <th>hour</th>\n",
       "      <th>minute</th>\n",
       "      <th>second</th>\n",
       "      <th>time_year</th>\n",
       "      <th>time_month</th>\n",
       "      <th>time_day</th>\n",
       "      <th>time_hour</th>\n",
       "      <th>time_minute</th>\n",
       "      <th>time_second</th>\n",
       "      <th>date</th>\n",
       "    </tr>\n",
       "    <tr>\n",
       "      <th>uuid</th>\n",
       "      <th></th>\n",
       "      <th></th>\n",
       "      <th></th>\n",
       "      <th></th>\n",
       "      <th></th>\n",
       "      <th></th>\n",
       "      <th></th>\n",
       "      <th></th>\n",
       "      <th></th>\n",
       "      <th></th>\n",
       "      <th></th>\n",
       "      <th></th>\n",
       "      <th></th>\n",
       "      <th></th>\n",
       "      <th></th>\n",
       "      <th></th>\n",
       "      <th></th>\n",
       "      <th></th>\n",
       "      <th></th>\n",
       "    </tr>\n",
       "  </thead>\n",
       "  <tbody>\n",
       "    <tr>\n",
       "      <th>a8daddb5-23f1-46a3-a63a-19304a3e1499</th>\n",
       "      <td>714.55</td>\n",
       "      <td>0.251000</td>\n",
       "      <td>BITSTAMP_SPOT_BTC_USD</td>\n",
       "      <td>BUY</td>\n",
       "      <td>2016-11-10T04:13:48.0711286Z</td>\n",
       "      <td>2016-11-10T04:13:47.0000000Z</td>\n",
       "      <td>2016</td>\n",
       "      <td>11</td>\n",
       "      <td>10</td>\n",
       "      <td>4</td>\n",
       "      <td>13</td>\n",
       "      <td>47</td>\n",
       "      <td>2016</td>\n",
       "      <td>201611</td>\n",
       "      <td>20161110</td>\n",
       "      <td>2016111004</td>\n",
       "      <td>201611100413</td>\n",
       "      <td>20161110041347</td>\n",
       "      <td>2016-11-10</td>\n",
       "    </tr>\n",
       "    <tr>\n",
       "      <th>62961fca-4818-427d-bbb8-7077d5d7fe0a</th>\n",
       "      <td>716.19</td>\n",
       "      <td>0.193893</td>\n",
       "      <td>BITSTAMP_SPOT_BTC_USD</td>\n",
       "      <td>BUY</td>\n",
       "      <td>2016-11-10T04:14:17.7898878Z</td>\n",
       "      <td>2016-11-10T04:14:17.0000000Z</td>\n",
       "      <td>2016</td>\n",
       "      <td>11</td>\n",
       "      <td>10</td>\n",
       "      <td>4</td>\n",
       "      <td>14</td>\n",
       "      <td>17</td>\n",
       "      <td>2016</td>\n",
       "      <td>201611</td>\n",
       "      <td>20161110</td>\n",
       "      <td>2016111004</td>\n",
       "      <td>201611100414</td>\n",
       "      <td>20161110041417</td>\n",
       "      <td>2016-11-10</td>\n",
       "    </tr>\n",
       "    <tr>\n",
       "      <th>6bc3ce5b-74b4-4651-948c-9a52e38093ea</th>\n",
       "      <td>716.21</td>\n",
       "      <td>0.757561</td>\n",
       "      <td>BITSTAMP_SPOT_BTC_USD</td>\n",
       "      <td>BUY</td>\n",
       "      <td>2016-11-10T04:14:17.9305174Z</td>\n",
       "      <td>2016-11-10T04:14:17.0000000Z</td>\n",
       "      <td>2016</td>\n",
       "      <td>11</td>\n",
       "      <td>10</td>\n",
       "      <td>4</td>\n",
       "      <td>14</td>\n",
       "      <td>17</td>\n",
       "      <td>2016</td>\n",
       "      <td>201611</td>\n",
       "      <td>20161110</td>\n",
       "      <td>2016111004</td>\n",
       "      <td>201611100414</td>\n",
       "      <td>20161110041417</td>\n",
       "      <td>2016-11-10</td>\n",
       "    </tr>\n",
       "    <tr>\n",
       "      <th>9a1306e8-4797-481e-bf72-55a8a45419a6</th>\n",
       "      <td>716.22</td>\n",
       "      <td>0.070000</td>\n",
       "      <td>BITSTAMP_SPOT_BTC_USD</td>\n",
       "      <td>BUY</td>\n",
       "      <td>2016-11-10T04:14:37.1805221Z</td>\n",
       "      <td>2016-11-10T04:14:36.0000000Z</td>\n",
       "      <td>2016</td>\n",
       "      <td>11</td>\n",
       "      <td>10</td>\n",
       "      <td>4</td>\n",
       "      <td>14</td>\n",
       "      <td>36</td>\n",
       "      <td>2016</td>\n",
       "      <td>201611</td>\n",
       "      <td>20161110</td>\n",
       "      <td>2016111004</td>\n",
       "      <td>201611100414</td>\n",
       "      <td>20161110041436</td>\n",
       "      <td>2016-11-10</td>\n",
       "    </tr>\n",
       "    <tr>\n",
       "      <th>64287d13-4e40-4422-a22a-3dfb31dbfe44</th>\n",
       "      <td>716.22</td>\n",
       "      <td>0.095000</td>\n",
       "      <td>BITSTAMP_SPOT_BTC_USD</td>\n",
       "      <td>BUY</td>\n",
       "      <td>2016-11-10T04:14:51.7117798Z</td>\n",
       "      <td>2016-11-10T04:14:51.0000000Z</td>\n",
       "      <td>2016</td>\n",
       "      <td>11</td>\n",
       "      <td>10</td>\n",
       "      <td>4</td>\n",
       "      <td>14</td>\n",
       "      <td>51</td>\n",
       "      <td>2016</td>\n",
       "      <td>201611</td>\n",
       "      <td>20161110</td>\n",
       "      <td>2016111004</td>\n",
       "      <td>201611100414</td>\n",
       "      <td>20161110041451</td>\n",
       "      <td>2016-11-10</td>\n",
       "    </tr>\n",
       "  </tbody>\n",
       "</table>\n",
       "</div>"
      ],
      "text/plain": [
       "                                       price      size              symbol_id  \\\n",
       "uuid                                                                            \n",
       "a8daddb5-23f1-46a3-a63a-19304a3e1499  714.55  0.251000  BITSTAMP_SPOT_BTC_USD   \n",
       "62961fca-4818-427d-bbb8-7077d5d7fe0a  716.19  0.193893  BITSTAMP_SPOT_BTC_USD   \n",
       "6bc3ce5b-74b4-4651-948c-9a52e38093ea  716.21  0.757561  BITSTAMP_SPOT_BTC_USD   \n",
       "9a1306e8-4797-481e-bf72-55a8a45419a6  716.22  0.070000  BITSTAMP_SPOT_BTC_USD   \n",
       "64287d13-4e40-4422-a22a-3dfb31dbfe44  716.22  0.095000  BITSTAMP_SPOT_BTC_USD   \n",
       "\n",
       "                                     taker_side                  time_coinapi  \\\n",
       "uuid                                                                            \n",
       "a8daddb5-23f1-46a3-a63a-19304a3e1499        BUY  2016-11-10T04:13:48.0711286Z   \n",
       "62961fca-4818-427d-bbb8-7077d5d7fe0a        BUY  2016-11-10T04:14:17.7898878Z   \n",
       "6bc3ce5b-74b4-4651-948c-9a52e38093ea        BUY  2016-11-10T04:14:17.9305174Z   \n",
       "9a1306e8-4797-481e-bf72-55a8a45419a6        BUY  2016-11-10T04:14:37.1805221Z   \n",
       "64287d13-4e40-4422-a22a-3dfb31dbfe44        BUY  2016-11-10T04:14:51.7117798Z   \n",
       "\n",
       "                                                     time_exchange  year  \\\n",
       "uuid                                                                       \n",
       "a8daddb5-23f1-46a3-a63a-19304a3e1499  2016-11-10T04:13:47.0000000Z  2016   \n",
       "62961fca-4818-427d-bbb8-7077d5d7fe0a  2016-11-10T04:14:17.0000000Z  2016   \n",
       "6bc3ce5b-74b4-4651-948c-9a52e38093ea  2016-11-10T04:14:17.0000000Z  2016   \n",
       "9a1306e8-4797-481e-bf72-55a8a45419a6  2016-11-10T04:14:36.0000000Z  2016   \n",
       "64287d13-4e40-4422-a22a-3dfb31dbfe44  2016-11-10T04:14:51.0000000Z  2016   \n",
       "\n",
       "                                      month  day  hour  minute  second  \\\n",
       "uuid                                                                     \n",
       "a8daddb5-23f1-46a3-a63a-19304a3e1499     11   10     4      13      47   \n",
       "62961fca-4818-427d-bbb8-7077d5d7fe0a     11   10     4      14      17   \n",
       "6bc3ce5b-74b4-4651-948c-9a52e38093ea     11   10     4      14      17   \n",
       "9a1306e8-4797-481e-bf72-55a8a45419a6     11   10     4      14      36   \n",
       "64287d13-4e40-4422-a22a-3dfb31dbfe44     11   10     4      14      51   \n",
       "\n",
       "                                      time_year  time_month  time_day  \\\n",
       "uuid                                                                    \n",
       "a8daddb5-23f1-46a3-a63a-19304a3e1499       2016      201611  20161110   \n",
       "62961fca-4818-427d-bbb8-7077d5d7fe0a       2016      201611  20161110   \n",
       "6bc3ce5b-74b4-4651-948c-9a52e38093ea       2016      201611  20161110   \n",
       "9a1306e8-4797-481e-bf72-55a8a45419a6       2016      201611  20161110   \n",
       "64287d13-4e40-4422-a22a-3dfb31dbfe44       2016      201611  20161110   \n",
       "\n",
       "                                       time_hour   time_minute  \\\n",
       "uuid                                                             \n",
       "a8daddb5-23f1-46a3-a63a-19304a3e1499  2016111004  201611100413   \n",
       "62961fca-4818-427d-bbb8-7077d5d7fe0a  2016111004  201611100414   \n",
       "6bc3ce5b-74b4-4651-948c-9a52e38093ea  2016111004  201611100414   \n",
       "9a1306e8-4797-481e-bf72-55a8a45419a6  2016111004  201611100414   \n",
       "64287d13-4e40-4422-a22a-3dfb31dbfe44  2016111004  201611100414   \n",
       "\n",
       "                                         time_second        date  \n",
       "uuid                                                              \n",
       "a8daddb5-23f1-46a3-a63a-19304a3e1499  20161110041347  2016-11-10  \n",
       "62961fca-4818-427d-bbb8-7077d5d7fe0a  20161110041417  2016-11-10  \n",
       "6bc3ce5b-74b4-4651-948c-9a52e38093ea  20161110041417  2016-11-10  \n",
       "9a1306e8-4797-481e-bf72-55a8a45419a6  20161110041436  2016-11-10  \n",
       "64287d13-4e40-4422-a22a-3dfb31dbfe44  20161110041451  2016-11-10  "
      ]
     },
     "execution_count": 67,
     "metadata": {},
     "output_type": "execute_result"
    }
   ],
   "source": [
    "df_both.head()"
   ]
  },
  {
   "cell_type": "markdown",
   "metadata": {},
   "source": [
    "### CSVye eklenenen yeni veriyi diske yaz"
   ]
  },
  {
   "cell_type": "code",
   "execution_count": 68,
   "metadata": {},
   "outputs": [],
   "source": [
    "with open(data_dir + 'BITSTAMP_TRADE_SPOTBTC_cum.csv','a') as fd:\n",
    "    df_new.to_csv(fd, header=False)"
   ]
  },
  {
   "cell_type": "markdown",
   "metadata": {},
   "source": [
    "### Sadece son(zaman olarak) trade verisini ayri olarak kaydet\n",
    "###### (sonraki sefer kaldigimiz yerden devam ederken, nerede kaldigimizi gormek icin butun veriyi hafizaya yuklemek zorunda kalmayalim diye)"
   ]
  },
  {
   "cell_type": "code",
   "execution_count": 70,
   "metadata": {},
   "outputs": [],
   "source": [
    "df_new.tail(1).to_csv(data_dir + 'BITSTAMP_TRADE_SPOTBTC_last_saved_trade.csv')"
   ]
  },
  {
   "cell_type": "code",
   "execution_count": null,
   "metadata": {},
   "outputs": [],
   "source": []
  },
  {
   "cell_type": "code",
   "execution_count": null,
   "metadata": {},
   "outputs": [],
   "source": []
  },
  {
   "cell_type": "code",
   "execution_count": null,
   "metadata": {},
   "outputs": [],
   "source": []
  },
  {
   "cell_type": "code",
   "execution_count": null,
   "metadata": {},
   "outputs": [],
   "source": []
  },
  {
   "cell_type": "code",
   "execution_count": null,
   "metadata": {},
   "outputs": [],
   "source": []
  },
  {
   "cell_type": "code",
   "execution_count": null,
   "metadata": {},
   "outputs": [],
   "source": []
  },
  {
   "cell_type": "code",
   "execution_count": 206,
   "metadata": {},
   "outputs": [],
   "source": [
    "# line = 0\n",
    "# i = 0\n",
    "\n",
    "# lines = []\n",
    "# after = False\n",
    "# with open(data_dir + 'BITSTAMP_TRADE_SPOTBTC_cum.csv','w') as fd:\n",
    "#     while line is not None:\n",
    "#         i = i+1\n",
    "#         line = fd.readline()\n",
    "#         print(line)\n",
    "#         if line is not None:\n",
    "            \n",
    "#             if len(line.split(',')) == 39:\n",
    "#                 after = True\n",
    "#                 print(i)\n",
    "#                 print(line.split(','))\n",
    "#         if after:\n",
    "#             print(line)\n",
    "#     #     fd.readlines(999300)\n",
    "\n",
    "        \n",
    "# #         line_lens.append(len(fd.readline().split(',')))"
   ]
  },
  {
   "cell_type": "code",
   "execution_count": 205,
   "metadata": {},
   "outputs": [],
   "source": [
    "# write_lines = []\n",
    "# vals_line = lines[100].split(',')\n",
    "# for line in lines:\n",
    "#     valsinline = line.split(',')\n",
    "#     if(len(valsinline)==39):\n",
    "#         vals_line_1 = valsinline[:19]\n",
    "#         vals_line_2 = valsinline[20:]\n",
    "#         last_of_line_1 = valsinline[19][:-36]+'\\n'\n",
    "#         first_of_line_2 = valsinline[19][-36:]\n",
    "# #         print(last_of_line_1, first_of_line_2)\n",
    "#         vals_line_1.append(last_of_line_1+'\\n')\n",
    "#         vals_line_2.insert(0, first_of_line_2)\n",
    "        \n",
    "#         line_1 = ','.join(vals_line_1)\n",
    "#         line_2 = ','.join(vals_line_2)\n",
    "        \n",
    "#         print(line_1)\n",
    "#         for val in vals_line_1:\n",
    "#             print(val)\n",
    "        \n",
    "#         print(line_2)\n",
    "#         for val in vals_line_2:\n",
    "#             print(val)\n",
    "            \n",
    "#         print(lines[100])\n",
    "#         for val in vals_line:\n",
    "#             print(val)\n",
    "            \n",
    "#         write_lines.append(line_1)\n",
    "#         write_lines.append(line_2)\n",
    "        \n",
    "#     else:\n",
    "#         write_lines.append(line)\n",
    "        \n",
    "        \n",
    "        "
   ]
  },
  {
   "cell_type": "code",
   "execution_count": 151,
   "metadata": {},
   "outputs": [
    {
     "name": "stdout",
     "output_type": "stream",
     "text": [
      "19f3608c-096e-44e2-ad58-e015f2fc4d88 2016-07-09\n"
     ]
    }
   ],
   "source": [
    "print(line_39[0].split(',')[19][-36:], line_39[0].split(',')[19][:-36] )"
   ]
  },
  {
   "cell_type": "code",
   "execution_count": 150,
   "metadata": {},
   "outputs": [],
   "source": [
    "# line_39[0].split(',')"
   ]
  },
  {
   "cell_type": "code",
   "execution_count": 172,
   "metadata": {},
   "outputs": [],
   "source": [
    "with open(data_dir + 'BITSTAMP_TRADE_SPOTBTC_cum.csv','w') as fw:\n",
    "    fw.writelines(write_lines)\n",
    "    "
   ]
  },
  {
   "cell_type": "code",
   "execution_count": null,
   "metadata": {},
   "outputs": [],
   "source": []
  }
 ],
 "metadata": {
  "kernelspec": {
   "display_name": "Python 3",
   "language": "python",
   "name": "python3"
  },
  "language_info": {
   "codemirror_mode": {
    "name": "ipython",
    "version": 3
   },
   "file_extension": ".py",
   "mimetype": "text/x-python",
   "name": "python",
   "nbconvert_exporter": "python",
   "pygments_lexer": "ipython3",
   "version": "3.6.4"
  }
 },
 "nbformat": 4,
 "nbformat_minor": 2
}
